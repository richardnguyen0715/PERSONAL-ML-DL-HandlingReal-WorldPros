{
 "cells": [
  {
   "cell_type": "markdown",
   "metadata": {},
   "source": [
    "## Data Visualization Course | VNU-HCM University of Science.\n",
    "### LAP02 - Working with time-series data\n",
    "#### **STEP 03 - Example - DATA EXPLORATION AND VISUALIZATION**"
   ]
  },
  {
   "cell_type": "code",
   "execution_count": 5,
   "metadata": {},
   "outputs": [],
   "source": [
    "import sys\n",
    "import os\n",
    "\n",
    "sys.path.append(os.path.abspath(os.path.join(os.getcwd(), '..')))"
   ]
  },
  {
   "cell_type": "code",
   "execution_count": 6,
   "metadata": {},
   "outputs": [],
   "source": [
    "from Libraries import *\n",
    "from Shared_Functions import *"
   ]
  },
  {
   "cell_type": "markdown",
   "metadata": {},
   "source": [
    "**Đọc dữ liệu từ file đã được xử lý**"
   ]
  },
  {
   "cell_type": "code",
   "execution_count": 7,
   "metadata": {},
   "outputs": [],
   "source": [
    "dataset_source_path = getGranDir() / 'Dataset'\n",
    "processed_dataset_path = dataset_source_path / 'google_processed.csv'\n",
    "df = getDataFrame(processed_dataset_path)"
   ]
  },
  {
   "cell_type": "code",
   "execution_count": 8,
   "metadata": {},
   "outputs": [
    {
     "data": {
      "text/html": [
       "<div>\n",
       "<style scoped>\n",
       "    .dataframe tbody tr th:only-of-type {\n",
       "        vertical-align: middle;\n",
       "    }\n",
       "\n",
       "    .dataframe tbody tr th {\n",
       "        vertical-align: top;\n",
       "    }\n",
       "\n",
       "    .dataframe thead th {\n",
       "        text-align: right;\n",
       "    }\n",
       "</style>\n",
       "<table border=\"1\" class=\"dataframe\">\n",
       "  <thead>\n",
       "    <tr style=\"text-align: right;\">\n",
       "      <th></th>\n",
       "      <th>Date</th>\n",
       "      <th>High</th>\n",
       "      <th>Low</th>\n",
       "      <th>Open</th>\n",
       "      <th>Close</th>\n",
       "      <th>Volume</th>\n",
       "      <th>Adj Close</th>\n",
       "    </tr>\n",
       "  </thead>\n",
       "  <tbody>\n",
       "    <tr>\n",
       "      <th>0</th>\n",
       "      <td>2004-08-19</td>\n",
       "      <td>51.835709</td>\n",
       "      <td>47.800831</td>\n",
       "      <td>49.813290</td>\n",
       "      <td>49.982655</td>\n",
       "      <td>44871361.0</td>\n",
       "      <td>49.982655</td>\n",
       "    </tr>\n",
       "    <tr>\n",
       "      <th>1</th>\n",
       "      <td>2004-08-20</td>\n",
       "      <td>54.336334</td>\n",
       "      <td>50.062355</td>\n",
       "      <td>50.316402</td>\n",
       "      <td>53.952770</td>\n",
       "      <td>22942874.0</td>\n",
       "      <td>53.952770</td>\n",
       "    </tr>\n",
       "    <tr>\n",
       "      <th>2</th>\n",
       "      <td>2004-08-23</td>\n",
       "      <td>56.528118</td>\n",
       "      <td>54.321388</td>\n",
       "      <td>55.168217</td>\n",
       "      <td>54.495735</td>\n",
       "      <td>18342897.0</td>\n",
       "      <td>54.495735</td>\n",
       "    </tr>\n",
       "    <tr>\n",
       "      <th>3</th>\n",
       "      <td>2004-08-24</td>\n",
       "      <td>55.591629</td>\n",
       "      <td>51.591621</td>\n",
       "      <td>55.412300</td>\n",
       "      <td>52.239197</td>\n",
       "      <td>15319808.0</td>\n",
       "      <td>52.239197</td>\n",
       "    </tr>\n",
       "    <tr>\n",
       "      <th>4</th>\n",
       "      <td>2004-08-25</td>\n",
       "      <td>53.798351</td>\n",
       "      <td>51.746044</td>\n",
       "      <td>52.284027</td>\n",
       "      <td>52.802086</td>\n",
       "      <td>9232276.0</td>\n",
       "      <td>52.802086</td>\n",
       "    </tr>\n",
       "    <tr>\n",
       "      <th>5</th>\n",
       "      <td>2004-08-26</td>\n",
       "      <td>53.773445</td>\n",
       "      <td>52.134586</td>\n",
       "      <td>52.279045</td>\n",
       "      <td>53.753517</td>\n",
       "      <td>7128620.0</td>\n",
       "      <td>53.753517</td>\n",
       "    </tr>\n",
       "    <tr>\n",
       "      <th>6</th>\n",
       "      <td>2004-08-27</td>\n",
       "      <td>54.107193</td>\n",
       "      <td>52.647663</td>\n",
       "      <td>53.848164</td>\n",
       "      <td>52.876804</td>\n",
       "      <td>6241307.0</td>\n",
       "      <td>52.876804</td>\n",
       "    </tr>\n",
       "    <tr>\n",
       "      <th>7</th>\n",
       "      <td>2004-08-30</td>\n",
       "      <td>52.548038</td>\n",
       "      <td>50.814533</td>\n",
       "      <td>52.443428</td>\n",
       "      <td>50.814533</td>\n",
       "      <td>5221498.0</td>\n",
       "      <td>50.814533</td>\n",
       "    </tr>\n",
       "    <tr>\n",
       "      <th>8</th>\n",
       "      <td>2004-08-31</td>\n",
       "      <td>51.661362</td>\n",
       "      <td>50.889256</td>\n",
       "      <td>50.958992</td>\n",
       "      <td>50.993862</td>\n",
       "      <td>4941252.0</td>\n",
       "      <td>50.993862</td>\n",
       "    </tr>\n",
       "    <tr>\n",
       "      <th>9</th>\n",
       "      <td>2004-09-01</td>\n",
       "      <td>51.292744</td>\n",
       "      <td>49.648903</td>\n",
       "      <td>51.158245</td>\n",
       "      <td>49.937820</td>\n",
       "      <td>9181687.0</td>\n",
       "      <td>49.937820</td>\n",
       "    </tr>\n",
       "  </tbody>\n",
       "</table>\n",
       "</div>"
      ],
      "text/plain": [
       "         Date       High        Low       Open      Close      Volume  \\\n",
       "0  2004-08-19  51.835709  47.800831  49.813290  49.982655  44871361.0   \n",
       "1  2004-08-20  54.336334  50.062355  50.316402  53.952770  22942874.0   \n",
       "2  2004-08-23  56.528118  54.321388  55.168217  54.495735  18342897.0   \n",
       "3  2004-08-24  55.591629  51.591621  55.412300  52.239197  15319808.0   \n",
       "4  2004-08-25  53.798351  51.746044  52.284027  52.802086   9232276.0   \n",
       "5  2004-08-26  53.773445  52.134586  52.279045  53.753517   7128620.0   \n",
       "6  2004-08-27  54.107193  52.647663  53.848164  52.876804   6241307.0   \n",
       "7  2004-08-30  52.548038  50.814533  52.443428  50.814533   5221498.0   \n",
       "8  2004-08-31  51.661362  50.889256  50.958992  50.993862   4941252.0   \n",
       "9  2004-09-01  51.292744  49.648903  51.158245  49.937820   9181687.0   \n",
       "\n",
       "   Adj Close  \n",
       "0  49.982655  \n",
       "1  53.952770  \n",
       "2  54.495735  \n",
       "3  52.239197  \n",
       "4  52.802086  \n",
       "5  53.753517  \n",
       "6  52.876804  \n",
       "7  50.814533  \n",
       "8  50.993862  \n",
       "9  49.937820  "
      ]
     },
     "execution_count": 8,
     "metadata": {},
     "output_type": "execute_result"
    }
   ],
   "source": [
    "#TEST\n",
    "df.head(10)"
   ]
  },
  {
   "cell_type": "markdown",
   "metadata": {},
   "source": [
    "**Nhận xét:** qua quá trình pre-proccessing trước đó thì ta nhận thấy tập dữ liệu đã được xử lý hoàn thiện. Khi này ta chỉ cần thực hiện bước tiếp sau khi đọc lại tập dữ liệu là thay đổi kiểu dữ liệu cho các cột sao cho chính xác."
   ]
  },
  {
   "cell_type": "code",
   "execution_count": 9,
   "metadata": {},
   "outputs": [],
   "source": [
    "df = changeDataType(df)"
   ]
  },
  {
   "cell_type": "code",
   "execution_count": 10,
   "metadata": {},
   "outputs": [
    {
     "data": {
      "text/plain": [
       "Date         datetime64[ns]\n",
       "High                float64\n",
       "Low                 float64\n",
       "Open                float64\n",
       "Close               float64\n",
       "Volume              float64\n",
       "Adj Close           float64\n",
       "dtype: object"
      ]
     },
     "execution_count": 10,
     "metadata": {},
     "output_type": "execute_result"
    }
   ],
   "source": [
    "#TEST\n",
    "df.dtypes"
   ]
  },
  {
   "cell_type": "markdown",
   "metadata": {},
   "source": [
    "---"
   ]
  },
  {
   "cell_type": "markdown",
   "metadata": {},
   "source": [
    "### DATA EXPLORATION & DATA VISUALIZATION"
   ]
  },
  {
   "cell_type": "markdown",
   "metadata": {},
   "source": [
    "HERE"
   ]
  },
  {
   "cell_type": "markdown",
   "metadata": {},
   "source": []
  }
 ],
 "metadata": {
  "kernelspec": {
   "display_name": "Python 3",
   "language": "python",
   "name": "python3"
  },
  "language_info": {
   "codemirror_mode": {
    "name": "ipython",
    "version": 3
   },
   "file_extension": ".py",
   "mimetype": "text/x-python",
   "name": "python",
   "nbconvert_exporter": "python",
   "pygments_lexer": "ipython3",
   "version": "3.12.5"
  }
 },
 "nbformat": 4,
 "nbformat_minor": 2
}
