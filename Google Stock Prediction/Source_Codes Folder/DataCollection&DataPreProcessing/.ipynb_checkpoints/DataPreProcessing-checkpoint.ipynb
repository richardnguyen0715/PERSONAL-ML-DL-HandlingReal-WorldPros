{
 "cells": [
  {
   "cell_type": "markdown",
   "metadata": {},
   "source": [
    "## Data Visualization Course | VNU-HCM University of Science.\n",
    "### LAP02 - Working with time-series data\n",
    "#### **STEP 02 - DATA Preprocessing**"
   ]
  },
  {
   "cell_type": "code",
   "execution_count": 1,
   "metadata": {},
   "outputs": [],
   "source": [
    "import sys\n",
    "import os\n",
    "\n",
    "sys.path.append(os.path.abspath(os.path.join(os.getcwd(), '..')))"
   ]
  },
  {
   "cell_type": "code",
   "execution_count": 2,
   "metadata": {},
   "outputs": [],
   "source": [
    "from Libraries import *\n",
    "from Shared_Functions import *"
   ]
  },
  {
   "cell_type": "code",
   "execution_count": 3,
   "metadata": {},
   "outputs": [
    {
     "data": {
      "text/html": [
       "<div>\n",
       "<style scoped>\n",
       "    .dataframe tbody tr th:only-of-type {\n",
       "        vertical-align: middle;\n",
       "    }\n",
       "\n",
       "    .dataframe tbody tr th {\n",
       "        vertical-align: top;\n",
       "    }\n",
       "\n",
       "    .dataframe thead th {\n",
       "        text-align: right;\n",
       "    }\n",
       "</style>\n",
       "<table border=\"1\" class=\"dataframe\">\n",
       "  <thead>\n",
       "    <tr style=\"text-align: right;\">\n",
       "      <th></th>\n",
       "      <th>Date</th>\n",
       "      <th>High</th>\n",
       "      <th>Low</th>\n",
       "      <th>Open</th>\n",
       "      <th>Close</th>\n",
       "      <th>Volume</th>\n",
       "      <th>Adj Close</th>\n",
       "    </tr>\n",
       "  </thead>\n",
       "  <tbody>\n",
       "    <tr>\n",
       "      <th>0</th>\n",
       "      <td>2004-08-19</td>\n",
       "      <td>51.835709</td>\n",
       "      <td>47.800831</td>\n",
       "      <td>49.813290</td>\n",
       "      <td>49.982655</td>\n",
       "      <td>44871361.0</td>\n",
       "      <td>49.982655</td>\n",
       "    </tr>\n",
       "    <tr>\n",
       "      <th>1</th>\n",
       "      <td>2004-08-20</td>\n",
       "      <td>54.336334</td>\n",
       "      <td>50.062355</td>\n",
       "      <td>50.316402</td>\n",
       "      <td>53.952770</td>\n",
       "      <td>22942874.0</td>\n",
       "      <td>53.952770</td>\n",
       "    </tr>\n",
       "    <tr>\n",
       "      <th>2</th>\n",
       "      <td>2004-08-23</td>\n",
       "      <td>56.528118</td>\n",
       "      <td>54.321388</td>\n",
       "      <td>55.168217</td>\n",
       "      <td>54.495735</td>\n",
       "      <td>18342897.0</td>\n",
       "      <td>54.495735</td>\n",
       "    </tr>\n",
       "    <tr>\n",
       "      <th>3</th>\n",
       "      <td>2004-08-24</td>\n",
       "      <td>55.591629</td>\n",
       "      <td>51.591621</td>\n",
       "      <td>55.412300</td>\n",
       "      <td>52.239197</td>\n",
       "      <td>15319808.0</td>\n",
       "      <td>52.239197</td>\n",
       "    </tr>\n",
       "    <tr>\n",
       "      <th>4</th>\n",
       "      <td>2004-08-25</td>\n",
       "      <td>53.798351</td>\n",
       "      <td>51.746044</td>\n",
       "      <td>52.284027</td>\n",
       "      <td>52.802086</td>\n",
       "      <td>9232276.0</td>\n",
       "      <td>52.802086</td>\n",
       "    </tr>\n",
       "    <tr>\n",
       "      <th>5</th>\n",
       "      <td>2004-08-26</td>\n",
       "      <td>53.773445</td>\n",
       "      <td>52.134586</td>\n",
       "      <td>52.279045</td>\n",
       "      <td>53.753517</td>\n",
       "      <td>7128620.0</td>\n",
       "      <td>53.753517</td>\n",
       "    </tr>\n",
       "    <tr>\n",
       "      <th>6</th>\n",
       "      <td>2004-08-27</td>\n",
       "      <td>54.107193</td>\n",
       "      <td>52.647663</td>\n",
       "      <td>53.848164</td>\n",
       "      <td>52.876804</td>\n",
       "      <td>6241307.0</td>\n",
       "      <td>52.876804</td>\n",
       "    </tr>\n",
       "    <tr>\n",
       "      <th>7</th>\n",
       "      <td>2004-08-30</td>\n",
       "      <td>52.548038</td>\n",
       "      <td>50.814533</td>\n",
       "      <td>52.443428</td>\n",
       "      <td>50.814533</td>\n",
       "      <td>5221498.0</td>\n",
       "      <td>50.814533</td>\n",
       "    </tr>\n",
       "    <tr>\n",
       "      <th>8</th>\n",
       "      <td>2004-08-31</td>\n",
       "      <td>51.661362</td>\n",
       "      <td>50.889256</td>\n",
       "      <td>50.958992</td>\n",
       "      <td>50.993862</td>\n",
       "      <td>4941252.0</td>\n",
       "      <td>50.993862</td>\n",
       "    </tr>\n",
       "    <tr>\n",
       "      <th>9</th>\n",
       "      <td>2004-09-01</td>\n",
       "      <td>51.292744</td>\n",
       "      <td>49.648903</td>\n",
       "      <td>51.158245</td>\n",
       "      <td>49.937820</td>\n",
       "      <td>9181687.0</td>\n",
       "      <td>49.937820</td>\n",
       "    </tr>\n",
       "  </tbody>\n",
       "</table>\n",
       "</div>"
      ],
      "text/plain": [
       "         Date       High        Low       Open      Close      Volume  \\\n",
       "0  2004-08-19  51.835709  47.800831  49.813290  49.982655  44871361.0   \n",
       "1  2004-08-20  54.336334  50.062355  50.316402  53.952770  22942874.0   \n",
       "2  2004-08-23  56.528118  54.321388  55.168217  54.495735  18342897.0   \n",
       "3  2004-08-24  55.591629  51.591621  55.412300  52.239197  15319808.0   \n",
       "4  2004-08-25  53.798351  51.746044  52.284027  52.802086   9232276.0   \n",
       "5  2004-08-26  53.773445  52.134586  52.279045  53.753517   7128620.0   \n",
       "6  2004-08-27  54.107193  52.647663  53.848164  52.876804   6241307.0   \n",
       "7  2004-08-30  52.548038  50.814533  52.443428  50.814533   5221498.0   \n",
       "8  2004-08-31  51.661362  50.889256  50.958992  50.993862   4941252.0   \n",
       "9  2004-09-01  51.292744  49.648903  51.158245  49.937820   9181687.0   \n",
       "\n",
       "   Adj Close  \n",
       "0  49.982655  \n",
       "1  53.952770  \n",
       "2  54.495735  \n",
       "3  52.239197  \n",
       "4  52.802086  \n",
       "5  53.753517  \n",
       "6  52.876804  \n",
       "7  50.814533  \n",
       "8  50.993862  \n",
       "9  49.937820  "
      ]
     },
     "execution_count": 3,
     "metadata": {},
     "output_type": "execute_result"
    }
   ],
   "source": [
    "dataset_source_path = getGranDir() / 'Dataset'\n",
    "pre_process_dataset_path = dataset_source_path / 'google.csv'\n",
    "df = pd.read_csv(pre_process_dataset_path)\n",
    "df.head(10)"
   ]
  },
  {
   "cell_type": "markdown",
   "metadata": {},
   "source": [
    "**Bước 1: Kiểm tra kiểu dữ liệu của các cột.**"
   ]
  },
  {
   "cell_type": "code",
   "execution_count": 4,
   "metadata": {},
   "outputs": [
    {
     "data": {
      "text/plain": [
       "Date          object\n",
       "High         float64\n",
       "Low          float64\n",
       "Open         float64\n",
       "Close        float64\n",
       "Volume       float64\n",
       "Adj Close    float64\n",
       "dtype: object"
      ]
     },
     "execution_count": 4,
     "metadata": {},
     "output_type": "execute_result"
    }
   ],
   "source": [
    "df.dtypes"
   ]
  },
  {
   "cell_type": "markdown",
   "metadata": {},
   "source": [
    "**Xử lý:** Date đang là kiểu object nên ta sẽ chuyển về kiểu Datatime."
   ]
  },
  {
   "cell_type": "code",
   "execution_count": 5,
   "metadata": {},
   "outputs": [],
   "source": [
    "df['Date'] = pd.to_datetime(df['Date'])"
   ]
  },
  {
   "cell_type": "code",
   "execution_count": 6,
   "metadata": {},
   "outputs": [
    {
     "data": {
      "text/plain": [
       "Date         datetime64[ns]\n",
       "High                float64\n",
       "Low                 float64\n",
       "Open                float64\n",
       "Close               float64\n",
       "Volume              float64\n",
       "Adj Close           float64\n",
       "dtype: object"
      ]
     },
     "execution_count": 6,
     "metadata": {},
     "output_type": "execute_result"
    }
   ],
   "source": [
    "#TEST\n",
    "df.dtypes"
   ]
  },
  {
   "cell_type": "markdown",
   "metadata": {},
   "source": [
    "**Kết luận:**\n",
    "Như vậy các cột đều đã đúng với kiểu dữ liệu nên có."
   ]
  },
  {
   "cell_type": "markdown",
   "metadata": {},
   "source": [
    "**Bước 2: Kiểm tra các cột xem % missing value là bao nhiêu?**"
   ]
  },
  {
   "cell_type": "code",
   "execution_count": 7,
   "metadata": {},
   "outputs": [],
   "source": [
    "def calcMissingRatio(df):\n",
    "    missing_ratio = {}\n",
    "    for key, values in df.items():\n",
    "        missing_count = values.isna().sum()\n",
    "        total_count = len(values)\n",
    "        missing_ratio[key] = ( missing_count / total_count )* 100 if total_count != 0 else None\n",
    "    return missing_ratio"
   ]
  },
  {
   "cell_type": "code",
   "execution_count": 8,
   "metadata": {},
   "outputs": [
    {
     "name": "stdout",
     "output_type": "stream",
     "text": [
      "Column: Date - Missing Ratio: 0.0\n",
      "Column: High - Missing Ratio: 0.0\n",
      "Column: Low - Missing Ratio: 0.0\n",
      "Column: Open - Missing Ratio: 0.0\n",
      "Column: Close - Missing Ratio: 0.0\n",
      "Column: Volume - Missing Ratio: 0.0\n",
      "Column: Adj Close - Missing Ratio: 0.0\n"
     ]
    }
   ],
   "source": [
    "#TEST\n",
    "missing_ratio = calcMissingRatio(df)\n",
    "for key, values in missing_ratio.items():\n",
    "    print(f'Column: {key} - Missing Ratio: {values}')"
   ]
  },
  {
   "cell_type": "markdown",
   "metadata": {},
   "source": [
    "**Kết luận:**\n",
    "Tất cả các dòng đều không có giá trị khuyết."
   ]
  },
  {
   "cell_type": "markdown",
   "metadata": {},
   "source": [
    "**Bước 3: Kiểm tra và xóa bỏ dòng bị trùng lập**"
   ]
  },
  {
   "cell_type": "code",
   "execution_count": 9,
   "metadata": {},
   "outputs": [],
   "source": [
    "def countDuplicateRow(df):\n",
    "    return df.duplicated().sum()"
   ]
  },
  {
   "cell_type": "code",
   "execution_count": 10,
   "metadata": {},
   "outputs": [
    {
     "name": "stdout",
     "output_type": "stream",
     "text": [
      "Duplicated rows: 0\n"
     ]
    }
   ],
   "source": [
    "#TEST\n",
    "print(f'Duplicated rows: {countDuplicateRow(df)}')"
   ]
  },
  {
   "cell_type": "markdown",
   "metadata": {},
   "source": [
    "**Nhận xét:**\n",
    "Như vậy không có dòng nào bị trùng lập trong tập dữ liệu."
   ]
  },
  {
   "cell_type": "code",
   "execution_count": 11,
   "metadata": {},
   "outputs": [],
   "source": [
    "def removeDuplicateRow(df):\n",
    "    return df.drop_duplicates(keep='first')"
   ]
  },
  {
   "cell_type": "code",
   "execution_count": 12,
   "metadata": {},
   "outputs": [
    {
     "name": "stdout",
     "output_type": "stream",
     "text": [
      "Duplicated rows after drop duplication: 0\n"
     ]
    }
   ],
   "source": [
    "#TEST\n",
    "df = removeDuplicateRow(df)\n",
    "print(f'Duplicated rows after drop duplication: {countDuplicateRow(df)}')"
   ]
  },
  {
   "cell_type": "markdown",
   "metadata": {},
   "source": [
    "**Bước 4: Kiểm tra các điều kiện tồn tại của dữ liệu trong tập dữ liệu kiểu số.**"
   ]
  },
  {
   "cell_type": "markdown",
   "metadata": {},
   "source": [
    "**Một số điều kiện cần kiểm tra:**\\\n",
    "    1. Mọi số phải >= 0.\\\n",
    "    2. ['High'] phải lớn hơn ['Low]"
   ]
  },
  {
   "cell_type": "code",
   "execution_count": 13,
   "metadata": {},
   "outputs": [],
   "source": [
    "def checkNumericCol(df):\n",
    "    # Select numeric columns\n",
    "    numeric_df = df.select_dtypes(include=['float', 'int'])\n",
    "    \n",
    "    # Check the first condition: Count values less than zero in every column\n",
    "    lessthan_zero = {}\n",
    "    rows_to_drop = set()  # To store indices of rows to drop\n",
    "\n",
    "    for key in numeric_df.keys():\n",
    "        less_zero_indices = numeric_df[numeric_df[key] < 0].index\n",
    "        lessthan_zero[key] = len(less_zero_indices)\n",
    "        rows_to_drop.update(less_zero_indices)\n",
    "\n",
    "    # Check the second condition: 'High' < 'Low'\n",
    "    if 'High' in numeric_df.columns and 'Low' in numeric_df.columns:\n",
    "        high_lt_low_indices = numeric_df[numeric_df['High'] < numeric_df['Low']].index\n",
    "        high_lt_low_count = len(high_lt_low_indices)\n",
    "        rows_to_drop.update(high_lt_low_indices)\n",
    "    else:\n",
    "        high_lt_low_count = 0\n",
    "\n",
    "    return lessthan_zero, high_lt_low_count, rows_to_drop"
   ]
  },
  {
   "cell_type": "code",
   "execution_count": 14,
   "metadata": {},
   "outputs": [
    {
     "name": "stdout",
     "output_type": "stream",
     "text": [
      "Number of elements <0 in columns:\n",
      "{'High': 0, 'Low': 0, 'Open': 0, 'Close': 0, 'Volume': 0, 'Adj Close': 0}\n",
      "number of rows with high less than low:\n",
      "0\n",
      "Rows need to drop:\n",
      "None\n"
     ]
    }
   ],
   "source": [
    "#TEST\n",
    "lessthan_zero, high_lt_low_count, rows_to_drop = checkNumericCol(df)\n",
    "print('Number of elements <0 in columns:')\n",
    "print(lessthan_zero)\n",
    "print('number of rows with high less than low:')\n",
    "print(high_lt_low_count)\n",
    "print('Rows need to drop:')\n",
    "print(rows_to_drop) if rows_to_drop != set() else print(\"None\")"
   ]
  },
  {
   "cell_type": "markdown",
   "metadata": {},
   "source": [
    "**Nhận xét:**\n",
    "Như vậy các cột số đều thõa mãn điều kiện."
   ]
  },
  {
   "cell_type": "markdown",
   "metadata": {},
   "source": [
    "**Bước 5: Kiểm tra các điều kiện tồn tại của dữ liệu trong tập dữ liệu kiểu khác số.**"
   ]
  },
  {
   "cell_type": "markdown",
   "metadata": {},
   "source": [
    "*Vì ở đây chỉ có dữ liệu kiểu ngày ở cột 'Date' cho nên là ta sẽ kiếm tra cột Date này.*"
   ]
  },
  {
   "cell_type": "code",
   "execution_count": 15,
   "metadata": {},
   "outputs": [],
   "source": [
    "def getInvaliedDate(df):\n",
    "    # Convert column to datetime, invalid dates will become NaT\n",
    "    df['Valid_Date'] = pd.to_datetime(df['Date'], errors='coerce')\n",
    "    \n",
    "    # Identify rows where the date conversion failed (NaT)\n",
    "    invalid_dates = df[df['Valid_Date'].isna()]\n",
    "    \n",
    "    # Drop the temporary 'Valid_Date' column\n",
    "    df.drop(columns=['Valid_Date'], inplace=True)\n",
    "    \n",
    "    return invalid_dates"
   ]
  },
  {
   "cell_type": "code",
   "execution_count": 16,
   "metadata": {},
   "outputs": [
    {
     "data": {
      "text/html": [
       "<div>\n",
       "<style scoped>\n",
       "    .dataframe tbody tr th:only-of-type {\n",
       "        vertical-align: middle;\n",
       "    }\n",
       "\n",
       "    .dataframe tbody tr th {\n",
       "        vertical-align: top;\n",
       "    }\n",
       "\n",
       "    .dataframe thead th {\n",
       "        text-align: right;\n",
       "    }\n",
       "</style>\n",
       "<table border=\"1\" class=\"dataframe\">\n",
       "  <thead>\n",
       "    <tr style=\"text-align: right;\">\n",
       "      <th></th>\n",
       "      <th>Date</th>\n",
       "      <th>High</th>\n",
       "      <th>Low</th>\n",
       "      <th>Open</th>\n",
       "      <th>Close</th>\n",
       "      <th>Volume</th>\n",
       "      <th>Adj Close</th>\n",
       "      <th>Valid_Date</th>\n",
       "    </tr>\n",
       "  </thead>\n",
       "  <tbody>\n",
       "  </tbody>\n",
       "</table>\n",
       "</div>"
      ],
      "text/plain": [
       "Empty DataFrame\n",
       "Columns: [Date, High, Low, Open, Close, Volume, Adj Close, Valid_Date]\n",
       "Index: []"
      ]
     },
     "execution_count": 16,
     "metadata": {},
     "output_type": "execute_result"
    }
   ],
   "source": [
    "invalid_dates = getInvaliedDate(df)\n",
    "invalid_dates"
   ]
  },
  {
   "cell_type": "markdown",
   "metadata": {},
   "source": [
    "**Nhận xét:**\n",
    "Như vậy không có hàng nào có ngày không hợp lệ."
   ]
  },
  {
   "cell_type": "markdown",
   "metadata": {},
   "source": [
    "#### Kết luận cuối cùng:\n",
    "Như vậy tập dữ liệu đã được xử lý xong. Tiếp theo ta sẽ ghi lại tập dữ liệu mới này vào một file mới."
   ]
  },
  {
   "cell_type": "code",
   "execution_count": 17,
   "metadata": {},
   "outputs": [],
   "source": [
    "processed_dataset_path = dataset_source_path / 'google_processed.csv'\n",
    "df.to_csv(processed_dataset_path, index=False)"
   ]
  }
 ],
 "metadata": {
  "kernelspec": {
   "display_name": "Python 3",
   "language": "python",
   "name": "python3"
  },
  "language_info": {
   "codemirror_mode": {
    "name": "ipython",
    "version": 3
   },
   "file_extension": ".py",
   "mimetype": "text/x-python",
   "name": "python",
   "nbconvert_exporter": "python",
   "pygments_lexer": "ipython3",
   "version": "3.12.5"
  }
 },
 "nbformat": 4,
 "nbformat_minor": 2
}
