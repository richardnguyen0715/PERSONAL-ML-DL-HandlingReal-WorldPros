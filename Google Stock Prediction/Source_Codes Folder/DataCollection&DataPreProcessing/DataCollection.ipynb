{
 "cells": [
  {
   "cell_type": "markdown",
   "metadata": {},
   "source": [
    "## Data Visualization Course | VNU-HCM University of Science.\n",
    "### LAP02 - Working with time-series data\n",
    "#### **STEP 01 - DATA COLLECTION**"
   ]
  },
  {
   "cell_type": "code",
   "execution_count": 1,
   "metadata": {},
   "outputs": [],
   "source": [
    "import sys\n",
    "import os\n",
    "\n",
    "sys.path.append(os.path.abspath(os.path.join(os.getcwd(), '..')))"
   ]
  },
  {
   "cell_type": "code",
   "execution_count": 2,
   "metadata": {},
   "outputs": [
    {
     "name": "stderr",
     "output_type": "stream",
     "text": [
      "c:\\Users\\Richard Nguyen\\AppData\\Local\\Programs\\Python\\Python312\\Lib\\site-packages\\tqdm\\auto.py:21: TqdmWarning: IProgress not found. Please update jupyter and ipywidgets. See https://ipywidgets.readthedocs.io/en/stable/user_install.html\n",
      "  from .autonotebook import tqdm as notebook_tqdm\n"
     ]
    }
   ],
   "source": [
    "from Libraries import *\n",
    "from Shared_Functions import *\n",
    "\n",
    "#Downloader\n",
    "import kagglehub"
   ]
  },
  {
   "cell_type": "markdown",
   "metadata": {},
   "source": [
    "#### Kaggle Dataset Downloader:"
   ]
  },
  {
   "cell_type": "code",
   "execution_count": 3,
   "metadata": {},
   "outputs": [],
   "source": [
    "def dataset_downloader():\n",
    "    path = kagglehub.dataset_download(\"akpmpr/google-stock-price-all-time\")\n",
    "    print(\"Path to dataset files:\", path)\n",
    "    return path"
   ]
  },
  {
   "cell_type": "code",
   "execution_count": 4,
   "metadata": {},
   "outputs": [
    {
     "name": "stdout",
     "output_type": "stream",
     "text": [
      "Warning: Looks like you're using an outdated `kagglehub` version, please consider updating (latest version: 0.3.4)\n",
      "Path to dataset files: C:\\Users\\Richard Nguyen\\.cache\\kagglehub\\datasets\\akpmpr\\google-stock-price-all-time\\versions\\4\n"
     ]
    }
   ],
   "source": [
    "source_path = dataset_downloader()"
   ]
  },
  {
   "cell_type": "markdown",
   "metadata": {},
   "source": [
    "#### Lấy ra đường dẫn của thư mục cần chứa dataset"
   ]
  },
  {
   "cell_type": "code",
   "execution_count": 5,
   "metadata": {},
   "outputs": [],
   "source": [
    "# Get the current directory\n",
    "destination_path = getGranDir() / 'Dataset'"
   ]
  },
  {
   "cell_type": "markdown",
   "metadata": {},
   "source": [
    "#### Tạo bản copy của dataset vào trong thư mục hoạt động"
   ]
  },
  {
   "cell_type": "code",
   "execution_count": 6,
   "metadata": {},
   "outputs": [],
   "source": [
    "def copy_csv_files(source_folder, destination_folder):\n",
    "    if not os.path.exists(source_folder):\n",
    "        raise FileNotFoundError(f\"Source folder '{source_folder}' not found.\")\n",
    "    \n",
    "    # Create new dir if not exist\n",
    "    os.makedirs(destination_folder, exist_ok=True)\n",
    "\n",
    "    #Find CSV file\n",
    "    for file_name in os.listdir(source_folder):\n",
    "        if file_name.endswith('.csv'):  # Filter only .csv files\n",
    "            source_file = os.path.join(source_folder, file_name)\n",
    "            destination_file = os.path.join(destination_folder, file_name)\n",
    "            shutil.copy2(source_file, destination_file)  # Copy file with metadata\n",
    "            print(f\"Copied: {source_file} to {destination_file}\")"
   ]
  },
  {
   "cell_type": "code",
   "execution_count": 7,
   "metadata": {},
   "outputs": [
    {
     "name": "stdout",
     "output_type": "stream",
     "text": [
      "Copied: C:\\Users\\Richard Nguyen\\.cache\\kagglehub\\datasets\\akpmpr\\google-stock-price-all-time\\versions\\4\\google.csv to c:\\Users\\Richard Nguyen\\OneDrive - VNU-HCMUS\\[Uni] UniverPro\\Data Visualization\\Practice Projects\\DV-TeamPro-Lap02-Working-with-Time-series-Data\\Dataset\\google.csv\n"
     ]
    }
   ],
   "source": [
    "copy_csv_files(source_path, destination_path)"
   ]
  }
 ],
 "metadata": {
  "kernelspec": {
   "display_name": "Python 3 (ipykernel)",
   "language": "python",
   "name": "python3"
  },
  "language_info": {
   "codemirror_mode": {
    "name": "ipython",
    "version": 3
   },
   "file_extension": ".py",
   "mimetype": "text/x-python",
   "name": "python",
   "nbconvert_exporter": "python",
   "pygments_lexer": "ipython3",
   "version": "3.12.4"
  }
 },
 "nbformat": 4,
 "nbformat_minor": 4
}
