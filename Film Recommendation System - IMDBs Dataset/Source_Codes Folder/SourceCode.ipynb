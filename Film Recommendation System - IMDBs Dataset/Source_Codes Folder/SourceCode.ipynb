{
 "cells": [
  {
   "cell_type": "markdown",
   "metadata": {},
   "source": [
    "## **Data Visualization - Trực quan hóa dữ liệu - CSC10108**\n",
    "### **HCMUS - Trường Đại học khoa học tự nhiên - Oct 2024.**\n",
    "### **Đồ án thực hành nhóm số 01 - Data Visualization with Python.**\n",
    "#### **Due:** 03/11/2024.\n",
    "#### **Lớp:** 22_21.\n",
    "#### **Giảng viên hướng dẫn:** Thầy Bùi Tiến Lên - Thầy Lê Nhựt Nam.\n",
    "---\n",
    "#### **STT nhóm:** 16.\n",
    "#### **Thành viên nhóm:**\n",
    "1. 22120378 - Nguyễn Ngọc Khánh Trân.\n",
    "2. 22120384 - Nguyễn Đình Trí.\n",
    "3. 22120387 - Trần Đức Trí.\n",
    "4. 22120412 - Nguyễn Anh Tường.\n",
    "---"
   ]
  },
  {
   "cell_type": "markdown",
   "metadata": {},
   "source": [
    "### Used Libraries"
   ]
  },
  {
   "cell_type": "code",
   "execution_count": null,
   "metadata": {},
   "outputs": [],
   "source": [
    "#Processing and Visualization Libaries\n",
    "import pandas as pd\n",
    "import numpy as np\n",
    "import matplotlib.pyplot as plt\n",
    "from copy import deepcopy\n",
    "\n",
    "#RSys Using Libaries\n",
    "from sklearn.preprocessing import MinMaxScaler\n",
    "from sklearn.metrics.pairwise import cosine_similarity\n",
    "\n",
    "#RSys Using GUI Libaries\n",
    "import tkinter as tk\n",
    "from tkinter import ttk, messagebox\n"
   ]
  },
  {
   "cell_type": "markdown",
   "metadata": {},
   "source": [
    "### Step 00: Install the libraries"
   ]
  },
  {
   "cell_type": "code",
   "execution_count": null,
   "metadata": {},
   "outputs": [],
   "source": [
    "# !pip install scikit-learn\n",
    "# !pip install matplotlib\n",
    "# !pip install numpy\n",
    "# !pip install pandas\n",
    "# !pip install tkinter"
   ]
  },
  {
   "cell_type": "markdown",
   "metadata": {},
   "source": [
    "### Step 01: Frame the problems"
   ]
  },
  {
   "cell_type": "markdown",
   "metadata": {},
   "source": [
    "### Step 02: Dataset Collection"
   ]
  },
  {
   "cell_type": "code",
   "execution_count": null,
   "metadata": {},
   "outputs": [],
   "source": [
    "# import kagglehub\n",
    "\n",
    "# def dataset_downloader():\n",
    "#     # Download latest version\n",
    "#     path = kagglehub.dataset_download(\"octopusteam/imdb-top-rated-titles-movies-and-tv-series\")\n",
    "#     print(\"Path to dataset files:\", path)"
   ]
  },
  {
   "cell_type": "markdown",
   "metadata": {},
   "source": [
    "#### Get dataset"
   ]
  },
  {
   "cell_type": "code",
   "execution_count": null,
   "metadata": {},
   "outputs": [],
   "source": [
    "df = pd.read_csv(r'IMDb Top Rated Titles.csv')\n",
    "df"
   ]
  },
  {
   "cell_type": "markdown",
   "metadata": {},
   "source": [
    "### Steop 03: Data Pre-Processing"
   ]
  },
  {
   "cell_type": "markdown",
   "metadata": {},
   "source": [
    "#### Re-Define the column values"
   ]
  },
  {
   "cell_type": "markdown",
   "metadata": {},
   "source": [
    "##### 3.1 Find the unique items list of type and genres."
   ]
  },
  {
   "cell_type": "code",
   "execution_count": null,
   "metadata": {},
   "outputs": [],
   "source": [
    "#Get the genres list\n",
    "genres_raw = list(set(df['genres']))\n",
    "\n",
    "#Clean the genres and get the unique items\n",
    "genres_cleaned = set()\n",
    "for element in genres_raw:\n",
    "    ele_list = element.split(', ')\n",
    "    for ele in ele_list:\n",
    "        genres_cleaned.add(ele)\n",
    "\n",
    "#Tranform set to list genres\n",
    "genres_cleaned = list(genres_cleaned)\n",
    "genres_cleaned = sorted(genres_cleaned)\n",
    "print(f'Genres list len: {len(genres_cleaned)}')\n",
    "print(f'Genres list: {genres_cleaned}')\n",
    "\n",
    "#Get the unique type list\n",
    "type_movies = list(set(df['type']))\n",
    "print(f'Type list len: {len(type_movies)}')\n",
    "print(f'Type list: {type_movies}')"
   ]
  },
  {
   "cell_type": "markdown",
   "metadata": {},
   "source": [
    "#### **Comment**\n",
    "Cuz we got 27 genres and 3 type of movie, so we will re-define them into specific numbers.\\\n",
    "We will use dictionary order to number these contents.\n",
    "* **Type of movies:**\n",
    "    1. Movie: 1.\n",
    "    2. tvMiniSeries: 2.\n",
    "    3. tvSeries: 3.\n",
    "\n",
    "**Notice:** Because a movie can has many genres, I will split this genres column into 27 small columns with data type int, the value will be 1 if there is that genre and 0 if there is no that genre.\n",
    "   "
   ]
  },
  {
   "cell_type": "markdown",
   "metadata": {},
   "source": [
    "#### 3.2 Type of movie tranform process"
   ]
  },
  {
   "cell_type": "code",
   "execution_count": null,
   "metadata": {},
   "outputs": [],
   "source": [
    "for index in range(len(df)):\n",
    "    if df.at[index, 'type'] == 'movie':\n",
    "        df.at[index, 'type'] = 1\n",
    "    elif df.at[index, 'type'] == 'tvMiniSeries':\n",
    "        df.at[index, 'type'] = 2\n",
    "    elif df.at[index, 'type'] == 'tvSeries':\n",
    "        df.at[index, 'type'] = 3\n",
    "\n",
    "print(df.head())\n",
    "init_df = deepcopy(df)\n",
    "print(df['type'][0])"
   ]
  },
  {
   "cell_type": "markdown",
   "metadata": {},
   "source": [
    "#### 3.3 Genres tranform process"
   ]
  },
  {
   "cell_type": "code",
   "execution_count": null,
   "metadata": {},
   "outputs": [],
   "source": [
    "#Create a binary column for each genre ( 27 columns in total )\n",
    "for genre in genres_cleaned:\n",
    "    df[genre] = df['genres'].apply(lambda x: 1 if genre in x else 0)\n",
    "\n",
    "#Drop the original 'genres' column ( axis = 1 ) cuz it's no longer needed\n",
    "df = df.drop('genres', axis=1)\n",
    "\n",
    "#Show first 5 rows of df after the processing\n",
    "print(df.head())"
   ]
  },
  {
   "cell_type": "markdown",
   "metadata": {},
   "source": [
    "### Step 04: Select, interpret, and visualize feilds and their hidden relationships"
   ]
  },
  {
   "cell_type": "markdown",
   "metadata": {},
   "source": [
    "#### 4.1 Analysis of the total number of films:"
   ]
  },
  {
   "cell_type": "markdown",
   "metadata": {},
   "source": [
    "* Total number of films: 6029"
   ]
  },
  {
   "cell_type": "markdown",
   "metadata": {},
   "source": [
    "* Films' release period is from 1916 to 2024"
   ]
  },
  {
   "cell_type": "markdown",
   "metadata": {},
   "source": [
    "##### 4.1.1. Analyze the proportion of films released by each decade:"
   ]
  },
  {
   "cell_type": "code",
   "execution_count": null,
   "metadata": {},
   "outputs": [],
   "source": [
    "import matplotlib.colors as mcolors\n",
    "\n",
    "# Grouping data by decade to count the number of movies/shows released in each decade\n",
    "df['decade'] = (df['releaseYear'] // 10) * 10  # Calculate decade by truncating the last digit\n",
    "decade_counts = df['decade'].value_counts().sort_index()  # Count movies by decade and sort by decade\n",
    "\n",
    "# Define a color map to make each slice a different color\n",
    "colors = plt.cm.tab20.colors  # Choose a colormap with distinct colors\n",
    "\n",
    "# Plotting a pie chart for the proportion of movies released in each decade with percentage values only\n",
    "plt.figure(figsize=(10, 8))\n",
    "\n",
    "# Store the wedges, texts, and autotexts returned by plt.pie()\n",
    "wedges, texts, autotexts = plt.pie(decade_counts, colors=colors[:len(decade_counts)], startangle=140, autopct='%1.1f%%')\n",
    "\n",
    "# Set the title\n",
    "plt.title('Proportion of Movies Released by Decade')\n",
    "\n",
    "# Add the legend using the wedges\n",
    "plt.legend(wedges, decade_counts.index, title=\"Decade\", loc=\"center left\", bbox_to_anchor=(1, 0, 0.5, 1))\n",
    "\n",
    "# Show the plot\n",
    "plt.show()"
   ]
  },
  {
   "cell_type": "markdown",
   "metadata": {},
   "source": [
    "##### 4.1.2. Nhận xét và kết luận: "
   ]
  },
  {
   "cell_type": "markdown",
   "metadata": {},
   "source": [
    "- Số lượng phim tăng dần qua từng thập kỷ: \n",
    "\n",
    "    * Ta thấy được số lượng phim phát hành tăng mạnh từ những năm 1980 trở đi, đặc biệt là trong giai đoạn 2000 và 2010. \n",
    "\n",
    "    * Thập kỷ 2010 chiếm tỷ lệ cao nhất với 32.3%, cho thấy đây là thời kỳ mà công nghiệp điện ảnh phát triển mạnh mẽ và có nhiều phim được sản xuất. \n",
    "\n",
    "- Giai đoạn phát triển vượt bậc (từ thập kỉ 1990 đến thập kỉ 2010): \n",
    "\n",
    "    * Các thập kỷ 1990, 2000 và 2010 chiếm phần lớn tỷ lệ, với các mức lần lượt là 10.7%, 19.6%, và 32.3%. \n",
    "\n",
    "    * Điều này có thể liên quan đến sự bùng nổ của công nghệ, cho phép việc sản xuất phim trở nên dễ dàng hơn, cùng với sự phát triển của các nền tảng phát hành phim trực tuyến. \n",
    "\n",
    "- Các thập kỷ trước 1980: \n",
    "\n",
    "    * Từ năm 1910 đến 1980, số lượng phim phát hành ít hơn đáng kể, với tỷ lệ dưới 7% cho mỗi thập kỷ. Điều này phản ánh giai đoạn đầu phát triển của ngành công nghiệp điện ảnh khi công nghệ và các phương tiện sản xuất phim còn nhiều hạn chế. \n",
    "\n",
    "- Thập kỷ 2020: \n",
    "\n",
    "    * Thập kỷ 2020 chỉ chiếm 2.2% trên biểu đồ, có thể do dữ liệu chưa đầy đủ cho thập kỷ này hoặc ảnh hưởng của đại dịch COVID-19, khiến nhiều phim bị trì hoãn hoặc sản xuất ít hơn. \n",
    "\n",
    "*Kết luận*: \n",
    "\n",
    "Biểu đồ cho thấy sự tăng trưởng liên tục trong số lượng phim được phát hành qua các thập kỷ, đặc biệt là từ những năm 1980 trở đi. Thập kỷ 2010 là thời kỳ có tỷ lệ phim phát hành cao nhất, trong khi các thập kỷ đầu tiên có số lượng phim rất ít, phản ánh sự phát triển của ngành công nghiệp điện ảnh qua thời gian. "
   ]
  },
  {
   "cell_type": "markdown",
   "metadata": {},
   "source": [
    "#### 4.2. Analysis of the genres:"
   ]
  },
  {
   "cell_type": "markdown",
   "metadata": {},
   "source": [
    "##### 4.2.1. Analyze the distribution of genres"
   ]
  },
  {
   "cell_type": "markdown",
   "metadata": {},
   "source": [
    "* Counting the total number of each genre are surveyed"
   ]
  },
  {
   "cell_type": "code",
   "execution_count": null,
   "metadata": {},
   "outputs": [],
   "source": [
    "genres_distribution = {genre: (df[genre] == 1).sum() for genre in genres_cleaned}\n",
    "\n",
    "for genre, count in genres_distribution.items():\n",
    "    print(f'{genre} : {count}')"
   ]
  },
  {
   "cell_type": "markdown",
   "metadata": {},
   "source": [
    "* Sort the distribution by the number of movies - ascending."
   ]
  },
  {
   "cell_type": "code",
   "execution_count": null,
   "metadata": {},
   "outputs": [],
   "source": [
    "genres_distribution = dict(sorted(genres_distribution.items(), key=lambda item: item[1]))\n",
    "for key,value in genres_distribution.items():\n",
    "    print(f'{key} : {value}')  "
   ]
  },
  {
   "cell_type": "markdown",
   "metadata": {},
   "source": [
    "* Get the x and y axis"
   ]
  },
  {
   "cell_type": "code",
   "execution_count": null,
   "metadata": {},
   "outputs": [],
   "source": [
    "x_axis = list(genres_distribution.keys())\n",
    "y_axis = list(genres_distribution.values())"
   ]
  },
  {
   "cell_type": "markdown",
   "metadata": {},
   "source": [
    "* Draw the distribution with scatter plot"
   ]
  },
  {
   "cell_type": "code",
   "execution_count": null,
   "metadata": {},
   "outputs": [],
   "source": [
    "# Set the point sizes and colors based on movie counts\n",
    "sizes = [count / 10 for count in y_axis]  # Adjust size scaling factor if needed\n",
    "colors = y_axis  # Color intensity based on the count\n",
    "\n",
    "plt.style.use('_mpl-gallery')\n",
    "\n",
    "# Create the scatter plot\n",
    "fig, ax = plt.subplots(figsize=(12, 8))\n",
    "scatter = ax.scatter(x_axis, y_axis, s=sizes, c=colors, cmap='Blues', alpha=0.7, edgecolors=\"k\")\n",
    "\n",
    "# Labeling\n",
    "ax.set_xlabel(\"Genres\", fontsize=14)\n",
    "ax.set_ylabel(\"Number of Movies\", fontsize=14)\n",
    "ax.set_title(\"Distribution of Movies Across Genres\", fontsize=16)\n",
    "\n",
    "# Rotate x-axis labels for readability\n",
    "plt.xticks(rotation=45, ha='right')\n",
    "\n",
    "# Add colorbar to show intensity mapping to the number of movies\n",
    "cbar = plt.colorbar(scatter)\n",
    "cbar.set_label('Number of Movies', fontsize=12)\n",
    "\n",
    "# Adjust layout to prevent overlap\n",
    "plt.tight_layout()\n",
    "\n",
    "# Show plot\n",
    "plt.show()"
   ]
  },
  {
   "cell_type": "markdown",
   "metadata": {},
   "source": [
    "* When it comes to the distribution, we have the bar chart that illustrate the distribution of genres across segments, with a segment is in range 500s"
   ]
  },
  {
   "cell_type": "code",
   "execution_count": null,
   "metadata": {},
   "outputs": [],
   "source": [
    "#Define bin ranges: from 0 to the maximum value in movie_counts, with steps of 500\n",
    "bins = np.arange(0, max(y_axis) + 500, 500)\n",
    "\n",
    "plt.style.use('_mpl-gallery')\n",
    "fig, ax = plt.subplots(figsize=(12, 8))\n",
    "\n",
    "#Plot histogram with defined bins\n",
    "ax.hist(y_axis, bins=bins, color=\"skyblue\", edgecolor=\"white\", linewidth=1)\n",
    "\n",
    "#Labeling\n",
    "ax.set_xlabel(\"Number of Movies (Range in 500s)\", fontsize=14)\n",
    "ax.set_ylabel(\"Count of Genres\", fontsize=14)\n",
    "ax.set_title(\"Distribution of genres across segments\", fontsize=16)\n",
    "\n",
    "#Fix layout\n",
    "plt.tight_layout()\n",
    "\n",
    "#Show plot\n",
    "plt.show()"
   ]
  },
  {
   "cell_type": "markdown",
   "metadata": {},
   "source": [
    "##### 4.2.2 Kết luận:"
   ]
  },
  {
   "cell_type": "markdown",
   "metadata": {},
   "source": [
    "- Từ các biểu đồ ta thấy trên tổng số hơn 6000 tựa phim, thể loại drama – kịch tính là thể loại có nhiều bộ phim nhất – với hơn 4000 phim. Sau đó là thể loại hài kịch (comedy ) với hơn 1700 phim và tội phạm (crime ) với hơn 1300 phim. \n",
    "\n",
    "- Top 3 thể loại có ít phim nhất theo thứ tự từ cao nhất đến thấp nhất là Gameshow, news và short. Với số lượng phim lần lượt là 11 – 8 – 7. \n",
    "\n",
    "- Mỗi genres thường có khoảng 500 bộ phim lọt vào trong top list này, cá biệt trong đó có các trường hợp dramatic – kịch tính với hơn 4000 bộ phim, có thể nói đây là thể loại có ở hầu hết các tựa phim hoặc hầu hết các bộ phim trong top list này đều có chứa yếu tốt kịch tính. \n",
    "\n",
    "- Có thể thấy người xem ưa chuộng các thể loại giải trí cao, kịch tính, hồi hộp (comedy và crime) do vậy đánh giá của họ rất tốt đối với dạng thể loại này, dẫn đến danh sách lọt vào rất nhiều tựa phim có cùng thể loại yếu tố. "
   ]
  },
  {
   "cell_type": "markdown",
   "metadata": {},
   "source": [
    "#### 4.3 Analysis of the types"
   ]
  },
  {
   "cell_type": "markdown",
   "metadata": {},
   "source": [
    "##### 4.3.1 Analyze the distribution of types "
   ]
  },
  {
   "cell_type": "markdown",
   "metadata": {},
   "source": [
    "* We use the bar chart to depict the total films in each type over the period."
   ]
  },
  {
   "cell_type": "code",
   "execution_count": null,
   "metadata": {},
   "outputs": [],
   "source": [
    "# Calculate the total films in each type over the period (without seperate into each 10-year period)\n",
    "type_count = df['type'].value_counts()\n",
    "print(\"Total number of films each type: \\n\", type_count)\n",
    "\n",
    "# Plotting the bar chart:\n",
    "print(\"\\nThe bar chart: \\n\")\n",
    "plt.figure(figsize=(12, 8))\n",
    "type_count.plot(kind='bar', color='#B9E5E8', edgecolor='black')\n",
    "\n",
    "for index, value in enumerate(type_count):\n",
    "    plt.text(index, value, str(value), ha='center', va='bottom', fontsize=12)\n",
    "\n",
    "plt.title(\"Total films in each type during the period\")\n",
    "plt.xlabel(\"Content Type\")\n",
    "plt.ylabel(\"Total number of films\")\n",
    "plt.grid(True)\n",
    "plt.xticks(rotation=0)\n",
    "plt.tight_layout()\n",
    "\n",
    "plt.show()"
   ]
  },
  {
   "cell_type": "markdown",
   "metadata": {},
   "source": [
    "* When it comes to the proportion, we will use the donut chart for illustration."
   ]
  },
  {
   "cell_type": "code",
   "execution_count": null,
   "metadata": {},
   "outputs": [],
   "source": [
    "# Plotting the donut chart:\n",
    "print(\"The donut chart: \\n\")\n",
    "plt.figure(figsize=(5, 5))\n",
    "plt.pie(type_count, labels=type_count.index, autopct='%1.1f%%', startangle=140,\n",
    "        colors=['#37AFE1', '#608BC1', '#CBDCEB'], \n",
    "        wedgeprops={'edgecolor': 'white', 'linewidth': 1},\n",
    "        pctdistance=0.85)\n",
    "\n",
    "# Creating a 'donut hole' by plotting a white circle at the center\n",
    "centre_circle = plt.Circle((0, 0), 0.70, fc='white')\n",
    "plt.gca().add_artist(centre_circle)\n",
    "\n",
    "# Customizing the plot\n",
    "plt.title(\"Distribution of Total Films by Content Type\")\n",
    "plt.tight_layout()\n",
    "\n",
    "# Show the plot\n",
    "plt.show()"
   ]
  },
  {
   "cell_type": "markdown",
   "metadata": {},
   "source": [
    "##### 4.3.2. Kết luận"
   ]
  },
  {
   "cell_type": "markdown",
   "metadata": {},
   "source": [
    "- Ta thấy tỷ lệ của 3 loại phim, với loại 1- phim chiếu rạp (Movie) được sản xuất nhiều nhất từ trước đến nay, chiếm hơn 68% tổng số phim, theo sau đó loại 3- phim truyền hình dài tập (TVMiniSeries) và cuối cùng là loại 2 - phim truyền hình ngắn tập (TVMiniSeries). \n",
    "\n",
    "- Xu hướng từ trước đến nay là xem phim ở rạp thay vì xem phim đài truyền hình, một phần cũng là do thời gian không cho phép người xem dành thời gian mỗi ngày để xem phim, phần còn lại có thể do các yếu tố âm thanh, hình ảnh sắc nét hơn so với việc xem phim trên đài truyền hình."
   ]
  },
  {
   "cell_type": "markdown",
   "metadata": {},
   "source": [
    "#### 4.4 Analysis of relationships between the given attributes"
   ]
  },
  {
   "cell_type": "markdown",
   "metadata": {},
   "source": [
    "##### 4.4.1 The relationships between the types, average rating and release year"
   ]
  },
  {
   "cell_type": "markdown",
   "metadata": {},
   "source": [
    "**1. Distribution of average rating by film types:**\n",
    "* We use the donut chart to illustrate the rating and types distribution"
   ]
  },
  {
   "cell_type": "code",
   "execution_count": null,
   "metadata": {},
   "outputs": [],
   "source": [
    "import matplotlib.colors as mcolors\n",
    "# Phân bố điểm rating và phân bố của các loại phim trong đó\n",
    "# vẽ donut chart vòng ngoài là phân bố điểm rating, vòng trong là phân bố của các loại phim trong đó\n",
    "# vòng ngoài dùng lại biến new_dict_1, vòng trong dùng biến new_dict_2\n",
    "new_dict_1={}\n",
    "new_dict_1[(0, 8)]=0\n",
    "new_dict_1[(8, 9,'left-open')]=0\n",
    "new_dict_1[(9, 10,'left-open')]=0\n",
    "new_dict_1\n",
    "#extract rating column\n",
    "rating = df['averageRating']\n",
    "for rate in rating:\n",
    "    if rate<8:\n",
    "        new_dict_1[(0, 8)]+=1\n",
    "    elif rate<9:\n",
    "        new_dict_1[(8, 9,'left-open')]+=1\n",
    "    else:\n",
    "        new_dict_1[(9, 10,'left-open')]+=1\n",
    "new_dict_1\n",
    "new_dict_1\n",
    "#extract type column\n",
    "new_dict_2 = {\n",
    "    (0, 8): {},\n",
    "    (8, 9, 'left-open'): {},\n",
    "    (9, 10, 'left-open'): {}\n",
    "}\n",
    "type_movie = df['type']\n",
    "# Lấy danh sách duy nhất các loại phim từ cột 'type'\n",
    "unique_types = type_movie.unique()\n",
    "\n",
    "# Khởi tạo tất cả loại phim với giá trị ban đầu là 0 cho từng khoảng điểm\n",
    "for key in new_dict_2.keys():\n",
    "    for type_ in unique_types:\n",
    "        new_dict_2[key][type_] = 0\n",
    "\n",
    "# Tính phân bố của các loại phim trong từng khoảng điểm\n",
    "for rate, type_ in zip(rating, type_movie):\n",
    "    if rate < 8:\n",
    "        new_dict_2[(0, 8)][type_] += 1\n",
    "    elif rate < 9:\n",
    "        new_dict_2[(8, 9, 'left-open')][type_] += 1\n",
    "    else:\n",
    "        new_dict_2[(9, 10, 'left-open')][type_] += 1\n",
    "\n",
    "new_dict_2\n",
    "#plot donut chart\n",
    "# Chuyển đổi new_dict_1 thành giá trị radian\n",
    "outer_vals = list(new_dict_1.values())\n",
    "outer_vals_norm = np.array(outer_vals) / sum(outer_vals) * 2 * np.pi\n",
    "outer_left = np.cumsum(np.append(0, outer_vals_norm[:-1]))\n",
    "\n",
    "# Chuyển đổi new_dict_2 thành giá trị radian cho từng loại phim trong mỗi khoảng điểm\n",
    "inner_vals = [list(types.values()) for types in new_dict_2.values()]\n",
    "inner_vals_flat = np.array([item for sublist in inner_vals for item in sublist])\n",
    "inner_vals_norm = inner_vals_flat / inner_vals_flat.sum() * 2 * np.pi\n",
    "inner_left = np.cumsum(np.append(0, inner_vals_norm[:-1])).reshape(len(new_dict_2), -1)\n",
    "\n",
    "# Tạo bảng màu chủ đạo cho vòng ngoài\n",
    "base_colors = [\"#ff9999\", \"#66b3ff\", \"#99ff99\"]\n",
    "\n",
    "# Hàm để tạo màu với độ bão hòa khác nhau\n",
    "def adjust_brightness(color, factor):\n",
    "    color = mcolors.to_rgb(color)\n",
    "    return tuple(min(1, c * factor) for c in color)\n",
    "\n",
    "# Vẽ biểu đồ donut với hệ tọa độ cực\n",
    "fig, ax = plt.subplots(subplot_kw=dict(projection=\"polar\"), figsize=(10, 7))\n",
    "\n",
    "# Vòng ngoài - điểm rating\n",
    "for i, (key, val) in enumerate(new_dict_1.items()):\n",
    "    angle = outer_left[i] + outer_vals_norm[i] / 2\n",
    "    percentage = f\"{val / sum(outer_vals) * 100:.1f}%\"\n",
    "    \n",
    "    ax.bar(\n",
    "        x=outer_left[i],\n",
    "        width=outer_vals_norm[i],\n",
    "        bottom=1 - 0.3,\n",
    "        height=0.3,\n",
    "        color=base_colors[i],\n",
    "        edgecolor='w',\n",
    "        linewidth=1,\n",
    "        align=\"edge\"\n",
    "    )\n",
    "    \n",
    "    # Thêm tỷ lệ phần trăm cho vòng ngoài\n",
    "    ax.text(\n",
    "        angle, 1 - 0.15,\n",
    "        percentage,\n",
    "        ha='center',\n",
    "        va='center',\n",
    "        fontsize=12,\n",
    "        color=\"black\"\n",
    "    )\n",
    "\n",
    "# Vòng trong - loại phim\n",
    "inner_vals_flat_idx = 0\n",
    "for i, (key, types) in enumerate(new_dict_2.items()):\n",
    "    inner_vals_i = list(types.values())\n",
    "    inner_norm_i = inner_vals_norm[inner_vals_flat_idx:inner_vals_flat_idx + len(inner_vals_i)]\n",
    "    inner_left_i = inner_left[i]\n",
    "    \n",
    "    # Áp dụng các màu sáng tối khác nhau dựa trên màu chủ đạo cho từng loại phim\n",
    "    for j, (type_, val) in enumerate(types.items()):\n",
    "        color = adjust_brightness(base_colors[i], 1 - 0.2 * j)  # Giảm độ bão hòa cho từng loại phim\n",
    "        angle = inner_left_i[j] + inner_norm_i[j] / 2\n",
    "        percentage = f\"{val / sum(inner_vals_i) * 100:.1f}%\"\n",
    "        \n",
    "        ax.bar(\n",
    "            x=inner_left_i[j],\n",
    "            width=inner_norm_i[j],\n",
    "            bottom=1 - 2 * 0.3,\n",
    "            height=0.3,\n",
    "            color=color,\n",
    "            edgecolor='w',\n",
    "            linewidth=1,\n",
    "            align=\"edge\"\n",
    "        )\n",
    "        \n",
    "        # Thêm tỷ lệ phần trăm cho vòng trong\n",
    "        ax.text(\n",
    "            angle, 1 - 0.45,\n",
    "            percentage,\n",
    "            ha='center',\n",
    "            va='center',\n",
    "            fontsize=10,\n",
    "            color=\"black\"\n",
    "        )\n",
    "        \n",
    "    inner_vals_flat_idx += len(inner_vals_i)\n",
    "\n",
    "# Cấu hình tiêu đề và hiển thị biểu đồ\n",
    "ax.set(title=\"Rating and Type Distribution with Polar Coordinates\")\n",
    "ax.set_axis_off()\n",
    "\n",
    "# Thêm chú giải\n",
    "outer_labels = [f\"Rating {k[0]}-{k[1]}\" for k in new_dict_1.keys()]\n",
    "inner_labels = [f\"{key[0]}-{key[1]}: {genre}\" for key, genres in new_dict_2.items() for genre in genres.keys()]\n",
    "\n",
    "# Hiển thị chú thích chi tiết\n",
    "ax.legend(\n",
    "    outer_labels + inner_labels,\n",
    "    title=\"Rating Ranges and Genres\",\n",
    "    loc=\"center left\",\n",
    "    bbox_to_anchor=(1, 0.5)\n",
    ")\n",
    "\n",
    "plt.show()"
   ]
  },
  {
   "cell_type": "markdown",
   "metadata": {},
   "source": [
    "*Kết luận*:\n",
    "\n",
    "- Đầu tiên ta xét đến phân bố các mức rating, ở đây ta xét 3 mức là từ 0-8,8-9 và 9-10. \n",
    "\n",
    "- Ta có thể quan sát vòng tròn ngoài cùng, có thể nói rằng đa số phim được đánh giá ở mức khá (dưới 8) và không có bộ phim nào dưới 7, tỷ lệ phim ở mức đánh giá này lên đến xấp xỉ 72%. Ở vòng trong, trong mức đánh giá này, ta thấy đa số các phim thuộc loại hình 1 – phim ngắn (movie). Khả năng chất lượng các bộ phim chưa thể khiến một số lượng lớn người xem hài lòng.  \n",
    "\n",
    "- Ở phân khúc 8-9, chiếm khoảng 27%, trong đó, hầu như chỉ toàn phim loại hình 1 và 3, số lượng phim khiến cho người xem cảm thấy thích thú chiếm 1 phần tương đối, nhưng nhìn chung vẫn khó so với phân khúc trên (0-8). \n",
    "\n",
    "- Phân khúc 9-10 chiếm một tỷ lệ khá thấp với chỉ 1,2% tổng số phim. Đây là những bộ phim xuất sắc để lại nhiều ấn tượng và lấy được lòng khán giả, trong đó loại hình 3 (phim truyền hình dài tập) chiếm đa số trong phân khúc này. \n",
    "\n",
    "*Giải pháp*:  \n",
    "- Cần tập trung cải thiện chất lượng phim điện ảnh (movie) để làm hài lòng người xem. \n",
    "\n",
    "- Bên cạnh đó cũng duy trì và phát huy thêm sản xuất phim truyền hình dài tập khi điểm rating của nó là cao nhất trong các loại phim. \n",
    "\n",
    "Tuy nhiên, để theo dõi cụ thể hơn về các loại hình và mức đánh giá của chúng, ta khảo sát thêm về năm chiếu của các loại hình này. "
   ]
  },
  {
   "cell_type": "markdown",
   "metadata": {},
   "source": [
    "**2. Analysis of trend in film types and average rating by release year**"
   ]
  },
  {
   "cell_type": "markdown",
   "metadata": {},
   "source": [
    "- We divide the survey period into 10-year groups and examine changes in the quality ratings of genres within these 10-year groups.\n",
    "\n",
    "- We consider the mean value of the average ratings in the survey.\n",
    "\n",
    "- We use a line chart to show the trend of average ratings within each 10-year group."
   ]
  },
  {
   "cell_type": "code",
   "execution_count": null,
   "metadata": {},
   "outputs": [],
   "source": [
    "# Group 'decade' and 'type' and we find the average rating of each group of decade\n",
    "avg_decade = df.groupby(['decade', 'type'])['averageRating'].mean() .unstack()\n",
    "print (\"The dataset show the mean value of average rating of each types: \\n\",avg_decade)\n",
    "\n",
    "print (\"\\nThe grouped chart: \\n\")\n",
    "# Plotting the grouped bar chart\n",
    "fig, ax = plt.subplots(figsize=(10, 10))\n",
    "colors = ['#febfe7', '#f19814', '#4d256b'] \n",
    "avg_decade.plot(kind='line', ax=ax, color = colors)\n",
    "\n",
    "ax.set_title('The total avergae rating of each type over 10-year decade')\n",
    "ax.set_xlabel('Decade')\n",
    "ax.set_ylabel('Sum of average rating')\n",
    "plt.tight_layout()\n",
    "plt.show()\n"
   ]
  },
  {
   "cell_type": "markdown",
   "metadata": {},
   "source": [
    "* Combine with scatter plot, we can have a clearer insight of film types and the relationship with the decades"
   ]
  },
  {
   "cell_type": "code",
   "execution_count": null,
   "metadata": {},
   "outputs": [],
   "source": [
    "import seaborn as sns\n",
    "# Set up the plot\n",
    "plt.figure(figsize=(12, 8))\n",
    "sns.heatmap(avg_decade, annot=False, fmt=\".1f\", cmap=\"YlGnBu\", linewidths=0.5)\n",
    "\n",
    "plt.title(\"Heatmap of Average Ratings by Decade and Content Type\")\n",
    "plt.xlabel(\"Content Type\")\n",
    "plt.ylabel(\"Decade\")\n",
    "plt.tight_layout()\n",
    "\n",
    "# Show the plot\n",
    "plt.show()"
   ]
  },
  {
   "cell_type": "markdown",
   "metadata": {},
   "source": [
    "*Kết luận*\n",
    "\n",
    "- Đối với loại hình 1 (movie): các đánh giá từ những thập kỉ đầu (1910 đến 1960) còn khá thấp, tuy nhiên vào thập kỉ 1980, loại hình này đã được đánh giá ở các mức cao hơn, nhưng vẫn chưa có gì nổi bật khi điểm đánh giá tầm khoảng dưới 8 điểm. \n",
    "\n",
    "- Đối với loại hình 2 (TV Miniseries): ngay từ những thập kỉ đầu, loại hình này đã được đánh giá rất cao (có khi được đánh giá lên đến 8.6 vào thập kỉ 1970). Tuy nhiên càng về sau, loại hình này có xu hướng được đánh giá thấp dần, nhưng đây vẫn là loại hình được đánh giá cao nhất trong toàn bộ khoảng thời gian được khảo sát. \n",
    "\n",
    "- Đối với loại hình 3 (TV Series): đây cũng là một loại hình được đánh giá khá cao, tuy nhiên có thể không cao bằng loại hình TV Miniseries trong cuộc khảo sát. Loại hình này được đánh giá cao nhất là vào những năm 1950 đến những năm 1960. "
   ]
  },
  {
   "cell_type": "markdown",
   "metadata": {},
   "source": [
    "##### 4.4.2 The relationship between votes, average rating and release year"
   ]
  },
  {
   "cell_type": "markdown",
   "metadata": {},
   "source": [
    "**1. Number of votes for each film type by decade of release (from 1910 to 2020)**"
   ]
  },
  {
   "cell_type": "code",
   "execution_count": null,
   "metadata": {},
   "outputs": [],
   "source": [
    "# Grouping data by decade and type, then summing the number of votes for each type per decade\n",
    "decade_type_votes = df.groupby(['decade', 'type'])['numVotes'].sum().unstack().fillna(0)\n",
    "\n",
    "# Plotting a stacked bar chart to show the total number of votes per type across different decades\n",
    "decade_type_votes.plot(kind='bar', stacked=True, figsize=(14, 8))\n",
    "plt.xlabel('Decade')\n",
    "plt.ylabel('Total Number of Votes')\n",
    "plt.title('Total Number of Votes per Type Across Decades')\n",
    "plt.legend(title='Type', bbox_to_anchor=(1.05, 1), loc='upper left')\n",
    "plt.xticks(rotation=45)\n",
    "plt.grid(axis='y', linestyle='--', alpha=0.7)\n",
    "plt.show()\n",
    "\n"
   ]
  },
  {
   "cell_type": "markdown",
   "metadata": {},
   "source": [
    "*Nhận xét:*\n",
    "- Từ những năm 1990 trở đi, tổng số lượt bình chọn cho các loại hình giải trí tăng lên đáng kể, đặc biệt là từ thập kỷ 2000 và 2010. Phản ánh sự phát triển vượt bậc của ngành giải trí và sự quan tâm lớn của khán giả đối với các loại hình phim. \n",
    "\n",
    "- Phim điện ảnh (movie) chiếm tỷ lệ lớn nhất trong tổng số lượt bình chọn, đặc biệt là trong các thập kỷ gần đây (2000 và 2010). Điều này cho thấy rằng dù có sự xuất hiện của các loại hình khác như phim truyền hình và miniseries, phim điện ảnh vẫn giữ được sự phổ biến và thu hút lượng bình chọn lớn từ người xem. \n",
    "\n",
    "- Phim truyền hình (tvSeries) bắt đầu có số lượt bình chọn đáng kể từ những năm 2000, và con số này tiếp tục tăng trong thập kỷ 2010. Sự gia tăng này có thể liên quan đến sự phát triển của các nền tảng phát trực tuyến và xu hướng xem phim truyền hình dài tập. \n",
    "\n",
    " - Miniseries có sự xuất hiện trong lượt bình chọn nhưng với số lượng nhỏ hơn so với phim điện ảnh và phim truyền hình. Tuy nhiên, chúng vẫn có sự đóng góp nhất định, đặc biệt trong thập kỷ 2010 và 2020. \n",
    "\n",
    "- Tổng số lượt bình chọn giảm so với thập kỷ 2010. Điều này có thể do dữ liệu của thập kỷ này chưa hoàn chỉnh hoặc do sự ảnh hưởng của đại dịch COVID -19, dẫn đến giảm sản xuất phim và số lượng bình chọn từ khán giả. \n",
    "\n",
    "*Kết luận:*\n",
    " \n",
    "Biểu đồ cho thấy sự tăng trưởng liên tục trong tổng số lượt bình chọn của khán giả qua các thập kỷ, đặc biệt là từ những năm 2000 trở đi. Phim điện ảnh vẫn là loại hình phổ biến nhất, trong khi phim truyền hình và miniseries cũng dần thu hút sự quan tâm của khán giả, đặc biệt trong những năm gần đây. \n"
   ]
  },
  {
   "cell_type": "markdown",
   "metadata": {},
   "source": [
    "**2. Relationship between average rating and votes base on the release decade**"
   ]
  },
  {
   "cell_type": "code",
   "execution_count": null,
   "metadata": {},
   "outputs": [],
   "source": [
    "# Group data by release year, calculating the average rating and total number of votes for each year\n",
    "yearly_data = df.groupby('releaseYear').agg({\n",
    "    'averageRating': 'mean',\n",
    "    'numVotes': 'sum'\n",
    "}).reset_index()\n",
    "\n",
    "# Plot the relationship between total votes and average rating by release year\n",
    "fig, ax1 = plt.subplots(figsize=(12, 6))\n",
    "\n",
    "# Plot the average rating\n",
    "ax1.plot(yearly_data['releaseYear'], yearly_data['averageRating'], marker='o', label='Average Rating')\n",
    "ax1.set_xlabel('Release Year')\n",
    "ax1.set_ylabel('Average Rating')\n",
    "ax1.tick_params(axis='y')\n",
    "\n",
    "# Create a second y-axis for total votes\n",
    "ax2 = ax1.twinx()\n",
    "ax2.plot(yearly_data['releaseYear'], yearly_data['numVotes'], marker='d', linestyle='--', color='red', label='Total Votes')\n",
    "ax2.set_ylabel('Total Votes')\n",
    "\n",
    "# Add title and legend\n",
    "plt.title('Relationship between Average Rating and Total Votes by Release Year')\n",
    "fig.tight_layout()\n",
    "ax1.legend(loc='upper left')\n",
    "ax2.legend(loc='upper right')\n",
    "plt.show()"
   ]
  },
  {
   "cell_type": "markdown",
   "metadata": {},
   "source": [
    "*Nhận xét:*\n",
    "- Điểm đánh giá trung bình (đường màu xanh dương): \n",
    "\n",
    "    * Trong những năm đầu thế kỷ 20, điểm đánh giá trung bình có sự dao động khá lớn, với những đỉnh cao và thấp rõ rệt. \n",
    "\n",
    "    * Từ khoảng năm 1940 đến 1980, điểm đánh giá trung bình có xu hướng ổn định quanh mức 7.5 và ít dao động hơn. \n",
    "\n",
    "    * Sau năm 1980, điểm đánh giá trung bình bắt đầu có sự tăng nhẹ và duy trì ổn định ở mức cao hơn. \n",
    "\n",
    "- Tổng số lượt bình chọn (đường màu đỏ): \n",
    "\n",
    "    * Trước năm 1990, tổng số lượt bình chọn cho mỗi năm khá thấp và ổn định. \n",
    "\n",
    "    * Từ năm 2000 trở đi, tổng số lượt bình chọn tăng mạnh, đạt đỉnh vào những năm sau 2010. Điều này có thể liên quan đến sự phát triển của Internet và các nền tảng đánh giá trực tuyến như IMDb, nơi mà người xem có thể dễ dàng tham gia đánh giá phim hơn. \n",
    "\n",
    "    * Đặc biệt, từ năm 2020 trở đi, tổng số lượt bình chọn giảm mạnh. Điều này có thể do sự ảnh hưởng của đại dịch COVID-19, khi mà nhiều bộ phim bị trì hoãn hoặc ra mắt ít hơn, dẫn đến lượng bình chọn giảm sút. \n",
    "\n",
    "*Kết luận:* \n",
    "\n",
    "Biểu đồ cho thấy một xu hướng là mặc dù điểm đánh giá trung bình không thay đổi nhiều theo thời gian, tổng số lượt bình chọn đã tăng đáng kể trong những năm gần đây, đặc biệt là từ năm 2000 trở đi. \n"
   ]
  },
  {
   "cell_type": "markdown",
   "metadata": {},
   "source": [
    "#### 4.5 More interesting insight can be seen"
   ]
  },
  {
   "cell_type": "markdown",
   "metadata": {},
   "source": [
    "##### 4.5.1 Top 3 genres that are produced most"
   ]
  },
  {
   "cell_type": "markdown",
   "metadata": {},
   "source": [
    "* The top 3 most produced film genres, in descending order, are Drama, Comedy, and Crime. The Drama genre reaches a total of 4,180 films, surpassing Comedy and Crime with 1,794 and 1,382 films, respectively (see genre distribution chart, in 4.2.1).\n",
    "\n",
    "* It can be observed that the audience demand is primarily for films with intense, humorous elements.\n",
    "\n",
    "* We will examine the number of films produced in the last 10 years (2015-2024) for these top 3 genres in the chart below:"
   ]
  },
  {
   "cell_type": "code",
   "execution_count": null,
   "metadata": {},
   "outputs": [],
   "source": [
    "# count the number of movies genres by year\n",
    "genre_by_year = df.groupby('releaseYear')[genres_cleaned].sum()\n",
    "print(genre_by_year)\n",
    "# extract 10 years latest\n",
    "genre_by_year = genre_by_year[-10:]\n",
    "#print(genre_by_year)\n",
    "#create years from releaseYear\n",
    "years = genre_by_year.index\n",
    "# lấy ra top 3 từ genre_distribution\n",
    "top_3_genres = list(genres_distribution.keys())[-3:]\n",
    "#lấy ra values của top 3 genres từ genre_by_year\n",
    "top_3_genres_values = genre_by_year[top_3_genres].values\n",
    "print(top_3_genres_values)\n",
    "#plot\n",
    "plt.style.use('_mpl-gallery')\n",
    "# each year has value of 3 genres\n",
    "fig, ax = plt.subplots(figsize=(12, 8))\n",
    "#plot bar chart\n",
    "bars = ax.bar(years, top_3_genres_values[:, 0], width=0.3, label=top_3_genres[0])\n",
    "bars = ax.bar(years + 0.3, top_3_genres_values[:, 1], width=0.3, label=top_3_genres[1])\n",
    "bars = ax.bar(years + 0.6, top_3_genres_values[:, 2], width=0.3, label=top_3_genres[2])\n",
    "#labeling\n",
    "ax.set_xlabel(\"Years\", fontsize=14)\n",
    "ax.set_ylabel(\"Number of Movies\", fontsize=14)\n",
    "ax.set_title(\"Number of films by year in the top 3 genres with the largest distribution\", fontsize=16)\n",
    "ax.set_xticks(years)  # Hiển thị tất cả các năm trên trục x\n",
    "ax.set_xticklabels(years, rotation=45)  # Xoay nhãn nếu cần để tránh trùng lặp\n",
    "\n",
    "#legend\n",
    "ax.legend()\n",
    "#fix layout\n",
    "plt.tight_layout()\n",
    "#show plot\n",
    "plt.show()\n"
   ]
  },
  {
   "cell_type": "markdown",
   "metadata": {},
   "source": [
    "*Nhận xét:*\n",
    "- Có thể thấy thể loại phim Drama rất được ưa chuộng phát triển tới từ các nhà sản xuất phim.  \n"
   ]
  },
  {
   "cell_type": "markdown",
   "metadata": {},
   "source": [
    "To be more precise, we will illustrate this into the horizontal bar chart, which shows the genres that have most votes from the begin to the end of the release period."
   ]
  },
  {
   "cell_type": "code",
   "execution_count": null,
   "metadata": {},
   "outputs": [],
   "source": [
    "genre_votes={}\n",
    "for genre in genres_cleaned:\n",
    "    # Tính tổng numVotes cho thể loại hiện tại\n",
    "    total_votes = df.loc[df[genre] == 1, \"numVotes\"].sum()\n",
    "    genre_votes[genre] = total_votes\n",
    "#sort theo giá trị tăng dần\n",
    "genre_votes = dict(sorted(genre_votes.items(), key=lambda item: item[1]))\n",
    "# Chuyển đổi kết quả thành DataFrame để dễ nhìn\n",
    "genre_votes_df = pd.DataFrame(list(genre_votes.items()), columns=['Genre', 'Total Votes'])\n",
    "max_votes = genre_votes_df['Total Votes'].max()\n",
    "max_genre = genre_votes_df.loc[genre_votes_df['Total Votes'] == max_votes, 'Genre'].values[0]\n",
    "\n",
    "# Vẽ biểu đồ cột ngang\n",
    "plt.style.use('_mpl-gallery')\n",
    "fig, ax = plt.subplots(figsize=(12, 8))\n",
    "\n",
    "# Màu sắc cột: màu đỏ cho cột có giá trị cao nhất, màu xanh lam cho các cột còn lại\n",
    "colors = ['red' if genre == max_genre else 'blue' for genre in genre_votes_df['Genre']]\n",
    "bars = ax.barh(genre_votes_df['Genre'], genre_votes_df['Total Votes'], color=colors)\n",
    "\n",
    "# Gán nhãn và tiêu đề\n",
    "ax.set_xlabel(\"Total Votes\", fontsize=14)\n",
    "ax.set_ylabel(\"Genres\", fontsize=14)\n",
    "ax.set_title(\"Total Votes by Genre\", fontsize=16)\n",
    "\n",
    "# Gắn nhãn giá trị lên cột để dễ đọc\n",
    "for bar in bars:\n",
    "    width = bar.get_width()\n",
    "    ax.text(width, bar.get_y() + bar.get_height()/2, f'{int(width):,}', va='center')\n",
    "\n",
    "# Căn chỉnh bố cục và hiển thị biểu đồ\n",
    "plt.tight_layout()\n",
    "plt.show()"
   ]
  },
  {
   "cell_type": "markdown",
   "metadata": {},
   "source": [
    "*Nhận xét:*\n",
    "\n",
    "- Theo biểu đồ này ta thấy 3 thể loại phim có lượt vote nhiều nhất đứng đầu là Drama, tiếp theo là Action và cuối cùng là Adventure.  \n",
    "\n",
    "- Biểu đồ này chưa chắc rằng drama là bộ phim được yêu thích nhất, chúng ta cùng xem tiếp biểu đồ thể hiện số lượng vote trung bình cho 1 bộ phim của từng thể loại.  \t\t \n",
    "\n",
    "- Tới đây chúng ta có thể thấy rõ rằng, Sci-Fi mới là loại phim được yêu thích nhất với  hơn 306,000 lượt vote trung bình trên 1 bộ phim thuộc thể loại này, thiết lập một khoảng cách rất xa so với các đối thủ ở vị trí số 2 và 3 là Adventure và Action.  \n",
    "\n",
    "- Mặc dù số lượng bộ phim Sci-Fi là khá thấp (258 bộ, dựa theo biểu đồ phân phối các thể loại ở mục 3.2) nhưng lại nhận về số lượng vote rất cao (gần 79,000,000 lượt vote), điều đấy cho ta thấy rằng chất lượng các bộ phim Sci-Fi đang đạt mức cao và thu hút người xem.  \n",
    "\n",
    "- Adventure và Action vẫn giữ được vị thế của mình, riêng Drama thì số lượng nhiều nhưng chất lượng thì chưa đáp ứng yêu cầu. "
   ]
  },
  {
   "cell_type": "markdown",
   "metadata": {},
   "source": [
    "##### 4.5.2 The average rating of all films in the last two decades."
   ]
  },
  {
   "cell_type": "code",
   "execution_count": null,
   "metadata": {},
   "outputs": [],
   "source": [
    "# Tính điểm rating trung bình cho từng năm\n",
    "rating_by_year = df.groupby(\"releaseYear\")[\"averageRating\"].mean()\n",
    "\n",
    "# Lấy ra 10 năm gần đây nhất\n",
    "rating_by_year = rating_by_year[-20:]\n",
    "# Lấy ra năm có điểm rating trung bình cao nhất và điểm rating đó\n",
    "max_year = rating_by_year.idxmax()\n",
    "max_rating = rating_by_year.max()\n",
    "\n",
    "# Vẽ biểu đồ line chart\n",
    "plt.figure(figsize=(12, 6))\n",
    "plt.plot(rating_by_year.index, rating_by_year.values, marker='o', linestyle='-', color='b', label='Average Rating')\n",
    "\n",
    "plt.plot(max_year, max_rating, marker='o', color='red', markersize=10, label=f'Highest Rating in {max_year}')\n",
    "# Thêm các yếu tố đồ thị\n",
    "plt.title(\"Average Movie Rating by Release Year\")\n",
    "plt.xlabel(\"Release Year\")\n",
    "plt.ylabel(\"Average Rating\")\n",
    "plt.legend()\n",
    "plt.grid(visible=True)\n",
    "\n",
    "# Đặt tất cả các năm lên trục x\n",
    "plt.xticks(rating_by_year.index, rotation=45)  # Xoay các năm cho dễ đọc nếu cần\n",
    "\n",
    "# Hiển thị biểu đồ\n",
    "plt.show()"
   ]
  },
  {
   "cell_type": "markdown",
   "metadata": {},
   "source": [
    "*Nhận xét:*\n",
    "- Nhìn chung, mức điểm đánh giá trung bình tăng dần qua từng năm đến năm 2019, đây là một tín hiệu tốt.   \n",
    "\n",
    "- Năm 2019 cũng là năm mà mức điểm trung bình đạt đỉnh điểm trong 10 năm qua với 7.8 điểm có thể do nhu cầu cao trong thời kỳ đại dịch.  \n",
    "\n",
    "- Kể từ năm 2019 đang có xu hướng giảm dần. Chất lượng phim khả năng đang bị mất dần đi.  \n",
    "\n",
    "*Giải pháp:*\n",
    "\n",
    "- Cần cải thiện chất lượng các bộ phim thay vì số lượng.   "
   ]
  },
  {
   "cell_type": "markdown",
   "metadata": {},
   "source": [
    "To be more precise, we will examine the distribution of each type of films during 10 last year (2015 -2024)"
   ]
  },
  {
   "cell_type": "code",
   "execution_count": null,
   "metadata": {},
   "outputs": [],
   "source": [
    "type_list = list(set(df['type']))\n",
    "#count the number of 3 type movies by year\n",
    "type_by_year = df.groupby('releaseYear')['type'].value_counts().unstack().fillna(0)\n",
    "#print(type_by_year)\n",
    "#extract 10 years latest\n",
    "type_by_year = type_by_year[-10:]\n",
    "#print(type_by_year)\n",
    "#create years from releaseYear\n",
    "years = type_by_year.index\n",
    "#lấy ra values của 3 type từ type_by_year\n",
    "type_values = type_by_year.values\n",
    "print(type_values)\n",
    "#plot\n",
    "# vẽ biểu đồ cột chồng\n",
    "plt.style.use('_mpl-gallery')\n",
    "fig, ax = plt.subplots(figsize=(12, 8))\n",
    "#plot bar chart\n",
    "bars = ax.bar(years, type_values[:, 0], width=0.3, label=type_list[0])\n",
    "bars = ax.bar(years, type_values[:, 1], width=0.3, label=type_list[1], bottom=type_values[:, 0])\n",
    "bars = ax.bar(years, type_values[:, 2], width=0.3, label=type_list[2], bottom=type_values[:, 1] + type_values[:, 0])\n",
    "#labeling\n",
    "ax.set_xlabel(\"Years\", fontsize=14)\n",
    "ax.set_ylabel(\"Number of Movies\", fontsize=14)\n",
    "ax.set_title(\"Type of Movies by Year\", fontsize=16)\n",
    "ax.set_xticks(years)  # Hiển thị tất cả các năm trên trục x\n",
    "ax.set_xticklabels(years, rotation=45)  # Xoay nhãn nếu cần để tránh trùng l\n",
    "#legend\n",
    "ax.legend()\n",
    "#fix layout\n",
    "plt.tight_layout()\n",
    "#show plot\n",
    "plt.show()"
   ]
  },
  {
   "cell_type": "markdown",
   "metadata": {},
   "source": [
    "*Nhận xét:*\n",
    "- Nhìn chung, xu hướng sản xuất phim ổn đỉnh từ 2015-2018.  \n",
    "\n",
    "- Năm 2019 số lượng phim được sản xuất đạt ngưỡng cao nhất với 250 bộ phim, trong đó phim ngắn chiếm hơn 47% theo sau là phim truyền hình dài tập với gần 44%. Sở dĩ vậy cũng là do đây là để phục vụ nhu cầu cho người dân toàn cầu khi đây là thời điểm dịch Covid và người dân ít ra đường.  \n",
    "\n",
    "- Sau đó, số lượng phim có xu hướng giảm dần. Trong năm 2024, tính đến thời điểm hiện tại thì với số lượng 76 bộ phim là khá thấp so với những năm trước, năm nay có khả năng số lượng phim đạt mức thấp nhất trong 10 năm trở lại đây."
   ]
  },
  {
   "cell_type": "markdown",
   "metadata": {},
   "source": [
    "### Step 05: build a model - RS - Recommendation System"
   ]
  },
  {
   "cell_type": "markdown",
   "metadata": {},
   "source": [
    "#### Class Movie Recommender"
   ]
  },
  {
   "cell_type": "code",
   "execution_count": null,
   "metadata": {},
   "outputs": [],
   "source": [
    "class MovieRecommender:\n",
    "    def __init__(self, data):\n",
    "        self.data = data\n",
    "        self.prepare_features()\n",
    "        \n",
    "    def prepare_features(self):\n",
    "        # Create normalized features for numerical columns\n",
    "        scaler = MinMaxScaler()\n",
    "        \n",
    "        # Normalize ratings, number of votes, and release year\n",
    "        self.data['Normalized_Rating'] = scaler.fit_transform(self.data[['averageRating']])\n",
    "        self.data['Normalized_Votes'] = scaler.fit_transform(np.log1p(self.data[['numVotes']]))\n",
    "        self.data['Normalized_Year'] = scaler.fit_transform(self.data[['releaseYear']])\n",
    "        \n",
    "        # Get genre columns (assuming they're all binary and start from index 6)\n",
    "        self.genre_columns = [col for col in self.data.columns if col not in \n",
    "                            ['id', 'title', 'type', 'averageRating', 'numVotes', \n",
    "                             'releaseYear', 'Normalized_Rating', 'Normalized_Votes', 'Normalized_Year']]\n",
    "        \n",
    "        # Calculate feature matrix\n",
    "        self.features = np.column_stack([\n",
    "            self.data['Normalized_Rating'] * 0.3,  # Weight for rating\n",
    "            self.data['Normalized_Votes'] * 0.1,   # Weight for number of votes\n",
    "            self.data['Normalized_Year'] * 0.2,    # Weight for release year\n",
    "            self.data['type'] * 0.1,              # Weight for type\n",
    "            np.array(self.data[self.genre_columns]) * 0.3  # Weight for genres\n",
    "        ])\n",
    "        \n",
    "        # Calculate similarity matrix\n",
    "        self.similarity_matrix = cosine_similarity(self.features)\n",
    "    \n",
    "    def get_recommendations(self, movie_title, n_recommendations=5):\n",
    "        # Find the index of the input movie\n",
    "        try:\n",
    "            movie_idx = self.data[self.data['title'].str.lower() == movie_title.lower()].index[0]\n",
    "        except IndexError:\n",
    "            return \"Movie not found in database.\"\n",
    "        \n",
    "        # Get similarity scores for the movie\n",
    "        similarity_scores = self.similarity_matrix[movie_idx]\n",
    "        \n",
    "        # Get indices of most similar movies (excluding the input movie)\n",
    "        similar_indices = similarity_scores.argsort()[::-1][1:n_recommendations+1]\n",
    "        \n",
    "        # Get the recommended movies\n",
    "        recommendations = self.data.iloc[similar_indices]\n",
    "        \n",
    "        # Add similarity scores to the recommendations\n",
    "        recommendations = recommendations.copy()\n",
    "        recommendations['Similarity_Score'] = similarity_scores[similar_indices]\n",
    "        \n",
    "        # Select relevant columns for output\n",
    "        output_columns = ['title', 'type', 'averageRating', 'releaseYear', 'Similarity_Score']\n",
    "        \n",
    "        return recommendations[output_columns].sort_values('Similarity_Score', ascending=False)\n",
    "\n",
    "# Tesing Functions\n",
    "def create_recommender(df):\n",
    "    return MovieRecommender(df)\n",
    "\n",
    "def get_movie_recommendations(recommender, movie_title, n_recommendations=5):\n",
    "    return recommender.get_recommendations(movie_title, n_recommendations)"
   ]
  },
  {
   "cell_type": "markdown",
   "metadata": {},
   "source": [
    "##### Recommendation System Testing - The Godfather movie."
   ]
  },
  {
   "cell_type": "code",
   "execution_count": null,
   "metadata": {},
   "outputs": [],
   "source": [
    "recommender = create_recommender(df)\n",
    "recommendations = get_movie_recommendations(recommender, \"Blue Planet II\", n_recommendations=5)\n",
    "recommendations"
   ]
  },
  {
   "cell_type": "markdown",
   "metadata": {},
   "source": [
    "#### RS GUI"
   ]
  },
  {
   "cell_type": "code",
   "execution_count": null,
   "metadata": {},
   "outputs": [],
   "source": [
    "class MovieDatabase:\n",
    "    def __init__(self, master, df, callback):\n",
    "        self.window = tk.Toplevel(master)\n",
    "        self.window.title(\"Movie Database\")\n",
    "        self.window.geometry(\"1200x600\")\n",
    "        self.df = df\n",
    "        self.callback = callback\n",
    "        self.current_search_index = 0  # Track current search position\n",
    "        self.current_matches = []  # Store matching items\n",
    "        \n",
    "        # Search frame\n",
    "        search_frame = ttk.Frame(self.window, padding=\"5\")\n",
    "        search_frame.pack(fill='x', padx=5, pady=5)\n",
    "        \n",
    "        ttk.Label(search_frame, text=\"Search Movie:\").pack(side='left', padx=5)\n",
    "        self.search_var = tk.StringVar()\n",
    "        self.search_entry = ttk.Entry(search_frame, textvariable=self.search_var, width=40)\n",
    "        self.search_entry.pack(side='left', padx=5)\n",
    "        ttk.Button(search_frame, text=\"Search\", command=self.search_movie).pack(side='left', padx=5)\n",
    "        \n",
    "        # Create treeview\n",
    "        self.tree_frame = ttk.Frame(self.window)\n",
    "        self.tree_frame.pack(fill='both', expand=True, padx=5, pady=5)\n",
    "        \n",
    "        self.tree = ttk.Treeview(self.tree_frame, columns=list(df.columns), show='headings')\n",
    "        \n",
    "        # Configure scrollbars\n",
    "        vsb = ttk.Scrollbar(self.tree_frame, orient=\"vertical\", command=self.tree.yview)\n",
    "        hsb = ttk.Scrollbar(self.tree_frame, orient=\"horizontal\", command=self.tree.xview)\n",
    "        self.tree.configure(yscrollcommand=vsb.set, xscrollcommand=hsb.set)\n",
    "        \n",
    "        # Grid layout\n",
    "        self.tree.grid(column=0, row=0, sticky='nsew')\n",
    "        vsb.grid(column=1, row=0, sticky='ns')\n",
    "        hsb.grid(column=0, row=1, sticky='ew')\n",
    "        self.tree_frame.grid_columnconfigure(0, weight=1)\n",
    "        self.tree_frame.grid_rowconfigure(0, weight=1)\n",
    "        \n",
    "        # Set up columns\n",
    "        for col in df.columns:\n",
    "            self.tree.heading(col, text=col, command=lambda c=col: self.sort_column(c))\n",
    "            self.tree.column(col, width=100)\n",
    "        \n",
    "        # Insert data\n",
    "        for idx, row in df.iterrows():\n",
    "            self.tree.insert(\"\", 'end', values=list(row))\n",
    "        \n",
    "        # Close button\n",
    "        ttk.Button(self.window, text=\"Close\", command=self.close_window).pack(pady=10)\n",
    "        \n",
    "        # Bind Enter key to search\n",
    "        self.search_entry.bind('<Return>', lambda event: self.search_movie())\n",
    "        \n",
    "        # Window close protocol\n",
    "        self.window.protocol(\"WM_DELETE_WINDOW\", self.close_window)\n",
    "        \n",
    "    def sort_column(self, col):\n",
    "        data = [(self.tree.set(child, col), child) for child in self.tree.get_children('')]\n",
    "        data.sort()\n",
    "        for idx, item in enumerate(data):\n",
    "            self.tree.move(item[1], '', idx)\n",
    "            \n",
    "    def search_movie(self):\n",
    "        search_term = self.search_var.get().lower()\n",
    "        \n",
    "        # If new search term, reset search\n",
    "        if not self.current_matches or search_term != self.last_search_term:\n",
    "            self.current_matches = []\n",
    "            self.current_search_index = 0\n",
    "            items = self.tree.get_children()\n",
    "            \n",
    "            # Find all matching items\n",
    "            for item in items:\n",
    "                values = self.tree.item(item)['values']\n",
    "                if search_term in str(values[1]).lower():  # Search in title column\n",
    "                    self.current_matches.append(item)\n",
    "            \n",
    "            # Store current search term\n",
    "            self.last_search_term = search_term\n",
    "            \n",
    "            # If no matches found\n",
    "            if not self.current_matches:\n",
    "                messagebox.showinfo(\"Search Result\", \"Movie not found in database\")\n",
    "                return\n",
    "        \n",
    "        # If we have matches\n",
    "        if self.current_matches:\n",
    "            # Clear previous selection\n",
    "            self.tree.selection_remove(self.tree.selection())\n",
    "            \n",
    "            # Select and show current item\n",
    "            current_item = self.current_matches[self.current_search_index]\n",
    "            self.tree.selection_set(current_item)\n",
    "            self.tree.see(current_item)\n",
    "            \n",
    "            # If this is the last item, show message and reset index\n",
    "            if self.current_search_index == len(self.current_matches) - 1:\n",
    "                messagebox.showinfo(\"Search Result\", \"This is the last movie compatible with your input \\n- next search will return the first result\")\n",
    "                self.current_search_index = 0\n",
    "            else:\n",
    "                self.current_search_index += 1\n",
    "            \n",
    "    def close_window(self):\n",
    "        self.window.destroy()\n",
    "        self.callback()\n",
    "\n",
    "class RecommendationDisplay:\n",
    "    def __init__(self, master, recommendations, callback):\n",
    "        self.window = tk.Toplevel(master)\n",
    "        self.window.title(\"Movie Recommendations\")\n",
    "        self.window.geometry(\"1200x600\")\n",
    "        self.callback = callback\n",
    "        \n",
    "        # Create treeview\n",
    "        self.tree_frame = ttk.Frame(self.window)\n",
    "        self.tree_frame.pack(fill='both', expand=True, padx=5, pady=5)\n",
    "        \n",
    "        self.tree = ttk.Treeview(self.tree_frame, columns=list(recommendations.columns), show='headings')\n",
    "        \n",
    "        # Configure scrollbars\n",
    "        vsb = ttk.Scrollbar(self.tree_frame, orient=\"vertical\", command=self.tree.yview)\n",
    "        hsb = ttk.Scrollbar(self.tree_frame, orient=\"horizontal\", command=self.tree.xview)\n",
    "        self.tree.configure(yscrollcommand=vsb.set, xscrollcommand=hsb.set)\n",
    "        \n",
    "        # Grid layout\n",
    "        self.tree.grid(column=0, row=0, sticky='nsew')\n",
    "        vsb.grid(column=1, row=0, sticky='ns')\n",
    "        hsb.grid(column=0, row=1, sticky='ew')\n",
    "        self.tree_frame.grid_columnconfigure(0, weight=1)\n",
    "        self.tree_frame.grid_rowconfigure(0, weight=1)\n",
    "        \n",
    "        # Set up columns\n",
    "        for col in recommendations.columns:\n",
    "            self.tree.heading(col, text=col)\n",
    "            self.tree.column(col, width=100)\n",
    "        \n",
    "        # Insert data\n",
    "        for idx, row in recommendations.iterrows():\n",
    "            self.tree.insert(\"\", 'end', values=list(row))\n",
    "        \n",
    "        # Close button\n",
    "        ttk.Button(self.window, text=\"Close\", command=self.close_window).pack(pady=10)\n",
    "        \n",
    "        # Window close protocol\n",
    "        self.window.protocol(\"WM_DELETE_WINDOW\", self.close_window)\n",
    "        \n",
    "    def close_window(self):\n",
    "        self.window.destroy()\n",
    "        self.callback()\n",
    "\n",
    "class MainWindow:\n",
    "    def __init__(self, master, df, recommender, init_df):\n",
    "        self.master = master\n",
    "        self.master.title(\"Movie Recommender System\")\n",
    "        self.df = df\n",
    "        self.recommender = recommender\n",
    "        self.init_df = init_df\n",
    "        \n",
    "        # Create main frame\n",
    "        main_frame = ttk.Frame(master, padding=\"10\")\n",
    "        main_frame.pack(fill='both', expand=True)\n",
    "        \n",
    "        # Movie title input\n",
    "        ttk.Label(main_frame, text=\"Enter Movie Title:\").pack(pady=5)\n",
    "        self.title_var = tk.StringVar()\n",
    "        self.title_entry = ttk.Entry(main_frame, textvariable=self.title_var, width=40)\n",
    "        self.title_entry.pack(pady=5)\n",
    "        \n",
    "        # Number of recommendations input\n",
    "        ttk.Label(main_frame, text=\"Number of Recommendations:\").pack(pady=5)\n",
    "        self.num_var = tk.StringVar(value=\"5\")\n",
    "        self.num_entry = ttk.Entry(main_frame, textvariable=self.num_var, width=10)\n",
    "        self.num_entry.pack(pady=5)\n",
    "        \n",
    "        # Buttons frame\n",
    "        button_frame = ttk.Frame(main_frame)\n",
    "        button_frame.pack(pady=20)\n",
    "        \n",
    "        # Browse database button\n",
    "        ttk.Button(button_frame, text=\"Browse Database\", \n",
    "                  command=self.show_database).pack(side='left', padx=5)\n",
    "        \n",
    "        # Get recommendations button\n",
    "        ttk.Button(button_frame, text=\"Get Recommendations\", \n",
    "                  command=self.get_recommendations).pack(side='left', padx=5)\n",
    "        \n",
    "    def show_database(self):\n",
    "        self.master.withdraw()\n",
    "        MovieDatabase(self.master, self.init_df, self.show_main)\n",
    "        \n",
    "    def get_recommendations(self):\n",
    "        try:\n",
    "            num_recommendations = int(self.num_var.get())\n",
    "            movie_title = self.title_var.get()\n",
    "            \n",
    "            recommendations = self.recommender.get_recommendations(movie_title, num_recommendations)\n",
    "            \n",
    "            if isinstance(recommendations, str):  # Error message returned\n",
    "                messagebox.showerror(\"Error\", recommendations)\n",
    "            else:\n",
    "                self.master.withdraw()\n",
    "                RecommendationDisplay(self.master, recommendations, self.show_main)\n",
    "                \n",
    "        except ValueError:\n",
    "            messagebox.showerror(\"Error\", \"Please enter a valid number of recommendations\")\n",
    "        except Exception as e:\n",
    "            messagebox.showerror(\"Error\", str(e))\n",
    "            \n",
    "    def show_main(self):\n",
    "        self.master.deiconify()\n",
    "\n",
    "def launch_gui(df, recommender, init_df):\n",
    "    root = tk.Tk()\n",
    "    root.geometry(\"400x300\")\n",
    "    app = MainWindow(root, df, recommender, init_df)\n",
    "    root.mainloop()"
   ]
  },
  {
   "cell_type": "markdown",
   "metadata": {},
   "source": [
    "#### Run the RSys"
   ]
  },
  {
   "cell_type": "code",
   "execution_count": null,
   "metadata": {},
   "outputs": [],
   "source": [
    "recommender = create_recommender(df)\n",
    "launch_gui(df, recommender, init_df)"
   ]
  }
 ],
 "metadata": {
  "kernelspec": {
   "display_name": "Python 3",
   "language": "python",
   "name": "python3"
  },
  "language_info": {
   "codemirror_mode": {
    "name": "ipython",
    "version": 3
   },
   "file_extension": ".py",
   "mimetype": "text/x-python",
   "name": "python",
   "nbconvert_exporter": "python",
   "pygments_lexer": "ipython3",
   "version": "3.12.5"
  }
 },
 "nbformat": 4,
 "nbformat_minor": 4
}
